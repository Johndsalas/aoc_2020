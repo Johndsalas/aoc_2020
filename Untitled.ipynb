{
 "cells": [
  {
   "cell_type": "code",
   "execution_count": 4,
   "metadata": {},
   "outputs": [],
   "source": [
    "# Run this cell in order to have some setup data for the next exercises\n",
    "books = [\n",
    "    {\n",
    "        \"title\": \"Genetic Algorithms and Machine Learning for Programmers\",\n",
    "        \"price\": 36.99,\n",
    "        \"author\": \"Frances Buontempo\"\n",
    "    },\n",
    "    {\n",
    "        \"title\": \"The Visual Display of Quantitative Information\",\n",
    "        \"price\": 38.00,\n",
    "        \"author\": \"Edward Tufte\"\n",
    "    },\n",
    "    {\n",
    "        \"title\": \"Practical Object-Oriented Design\",\n",
    "        \"author\": \"Sandi Metz\",\n",
    "        \"price\": 30.47\n",
    "    },\n",
    "    {\n",
    "        \"title\": \"Weapons of Math Destruction\",\n",
    "        \"author\": \"Cathy O'Neil\",\n",
    "        \"price\": 17.44\n",
    "    }\n",
    "]"
   ]
  },
  {
   "cell_type": "code",
   "execution_count": 6,
   "metadata": {},
   "outputs": [
    {
     "name": "stdout",
     "output_type": "stream",
     "text": [
      "Exercise 91 is complete.\n"
     ]
    }
   ],
   "source": [
    "# Exercise 91\n",
    "# Write a function named get_number_of_books that takes in a list of objects \n",
    "# and returns the number of dictionaries in that list.\n",
    "\n",
    "def get_number_of_books(list_of_dictionaries):  # takes in a list of dictionaries\n",
    "    \n",
    "    count = 0 # holds count of dictionaries\n",
    "    \n",
    "    for dictionary in dictionaries:   # for each dictionary\n",
    "        \n",
    "        count += 1                    # add one to the count\n",
    "        \n",
    "    return count                      # then return a count of the dictionaries\n",
    "\n",
    "assert get_number_of_books(books) == 4\n",
    "print(\"Exercise 91 is complete.\")"
   ]
  },
  {
   "cell_type": "code",
   "execution_count": null,
   "metadata": {},
   "outputs": [],
   "source": []
  }
 ],
 "metadata": {
  "kernelspec": {
   "display_name": "Python 3",
   "language": "python",
   "name": "python3"
  },
  "language_info": {
   "codemirror_mode": {
    "name": "ipython",
    "version": 3
   },
   "file_extension": ".py",
   "mimetype": "text/x-python",
   "name": "python",
   "nbconvert_exporter": "python",
   "pygments_lexer": "ipython3",
   "version": "3.7.4"
  }
 },
 "nbformat": 4,
 "nbformat_minor": 4
}
