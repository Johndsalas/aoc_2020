{
 "cells": [
  {
   "cell_type": "code",
   "execution_count": 1,
   "metadata": {},
   "outputs": [],
   "source": [
    "import pandas as pd"
   ]
  },
  {
   "cell_type": "code",
   "execution_count": 2,
   "metadata": {},
   "outputs": [],
   "source": [
    "# --- Day 5: Binary Boarding ---\n",
    "# You board your plane only to discover a new problem: you dropped your boarding pass! You aren't sure which seat is yours, and all of the flight attendants are busy with the flood of people that suddenly made it through passport control.\n",
    "\n",
    "# You write a quick program to use your phone's camera to scan all of the nearby boarding passes (your puzzle input); perhaps you can find your seat through process of elimination.\n",
    "\n",
    "# Instead of zones or groups, this airline uses binary space partitioning to seat people. A seat might be specified like FBFBBFFRLR, where F means \"front\", B means \"back\", L means \"left\", and R means \"right\".\n",
    "\n",
    "# The first 7 characters will either be F or B; these specify exactly one of the 128 rows on the plane (numbered 0 through 127). Each letter tells you which half of a region the given seat is in. Start with the whole list of rows; the first letter indicates whether the seat is in the front (0 through 63) or the back (64 through 127). The next letter indicates which half of that region the seat is in, and so on until you're left with exactly one row.\n",
    "\n",
    "# For example, consider just the first seven characters of FBFBBFFRLR:\n",
    "\n",
    "# Start by considering the whole range, rows 0 through 127.\n",
    "# F means to take the lower half, keeping rows 0 through 63.\n",
    "# B means to take the upper half, keeping rows 32 through 63.\n",
    "# F means to take the lower half, keeping rows 32 through 47.\n",
    "# B means to take the upper half, keeping rows 40 through 47.\n",
    "# B keeps rows 44 through 47.\n",
    "# F keeps rows 44 through 45.\n",
    "# The final F keeps the lower of the two, row 44.\n",
    "# The last three characters will be either L or R; these specify exactly one of the 8 columns of seats on the plane (numbered 0 through 7). The same process as above proceeds again, this time with only three steps. L means to keep the lower half, while R means to keep the upper half.\n",
    "\n",
    "# For example, consider just the last 3 characters of FBFBBFFRLR:\n",
    "\n",
    "# Start by considering the whole range, columns 0 through 7.\n",
    "# R means to take the upper half, keeping columns 4 through 7.\n",
    "# L means to take the lower half, keeping columns 4 through 5.\n",
    "# The final R keeps the upper of the two, column 5.\n",
    "# So, decoding FBFBBFFRLR reveals that it is the seat at row 44, column 5.\n",
    "\n",
    "# Every seat also has a unique seat ID: multiply the row by 8, then add the column. In this example, the seat has ID 44 * 8 + 5 = 357.\n",
    "\n",
    "# Here are some other boarding passes:\n",
    "\n",
    "# BFFFBBFRRR: row 70, column 7, seat ID 567.\n",
    "# FFFBBBFRRR: row 14, column 7, seat ID 119.\n",
    "# BBFFBBFRLL: row 102, column 4, seat ID 820.\n",
    "# As a sanity check, look through your list of boarding passes. What is the highest seat ID on a boarding pass?"
   ]
  },
  {
   "cell_type": "code",
   "execution_count": 3,
   "metadata": {},
   "outputs": [
    {
     "data": {
      "text/html": [
       "<div>\n",
       "<style scoped>\n",
       "    .dataframe tbody tr th:only-of-type {\n",
       "        vertical-align: middle;\n",
       "    }\n",
       "\n",
       "    .dataframe tbody tr th {\n",
       "        vertical-align: top;\n",
       "    }\n",
       "\n",
       "    .dataframe thead th {\n",
       "        text-align: right;\n",
       "    }\n",
       "</style>\n",
       "<table border=\"1\" class=\"dataframe\">\n",
       "  <thead>\n",
       "    <tr style=\"text-align: right;\">\n",
       "      <th></th>\n",
       "      <th>seat_number_code</th>\n",
       "    </tr>\n",
       "  </thead>\n",
       "  <tbody>\n",
       "    <tr>\n",
       "      <th>0</th>\n",
       "      <td>BBFFFFBRLL</td>\n",
       "    </tr>\n",
       "    <tr>\n",
       "      <th>1</th>\n",
       "      <td>BFBBBBFLLL</td>\n",
       "    </tr>\n",
       "    <tr>\n",
       "      <th>2</th>\n",
       "      <td>FBBBFBFLLR</td>\n",
       "    </tr>\n",
       "    <tr>\n",
       "      <th>3</th>\n",
       "      <td>BFBBBFBLRR</td>\n",
       "    </tr>\n",
       "    <tr>\n",
       "      <th>4</th>\n",
       "      <td>FBBFFBFLRR</td>\n",
       "    </tr>\n",
       "  </tbody>\n",
       "</table>\n",
       "</div>"
      ],
      "text/plain": [
       "  seat_number_code\n",
       "0       BBFFFFBRLL\n",
       "1       BFBBBBFLLL\n",
       "2       FBBBFBFLLR\n",
       "3       BFBBBFBLRR\n",
       "4       FBBFFBFLRR"
      ]
     },
     "execution_count": 3,
     "metadata": {},
     "output_type": "execute_result"
    }
   ],
   "source": [
    "df = pd.read_excel('seat_numbers.xlsx')\n",
    "df.head()"
   ]
  },
  {
   "cell_type": "code",
   "execution_count": 4,
   "metadata": {},
   "outputs": [],
   "source": [
    "df['row_number_code'] = df.seat_number_code.str[0:7]\n",
    "df['column_number_code'] = df.seat_number_code.str[-3:]"
   ]
  },
  {
   "cell_type": "code",
   "execution_count": 5,
   "metadata": {},
   "outputs": [
    {
     "data": {
      "text/html": [
       "<div>\n",
       "<style scoped>\n",
       "    .dataframe tbody tr th:only-of-type {\n",
       "        vertical-align: middle;\n",
       "    }\n",
       "\n",
       "    .dataframe tbody tr th {\n",
       "        vertical-align: top;\n",
       "    }\n",
       "\n",
       "    .dataframe thead th {\n",
       "        text-align: right;\n",
       "    }\n",
       "</style>\n",
       "<table border=\"1\" class=\"dataframe\">\n",
       "  <thead>\n",
       "    <tr style=\"text-align: right;\">\n",
       "      <th></th>\n",
       "      <th>seat_number_code</th>\n",
       "      <th>row_number_code</th>\n",
       "      <th>column_number_code</th>\n",
       "    </tr>\n",
       "  </thead>\n",
       "  <tbody>\n",
       "    <tr>\n",
       "      <th>0</th>\n",
       "      <td>BBFFFFBRLL</td>\n",
       "      <td>BBFFFFB</td>\n",
       "      <td>RLL</td>\n",
       "    </tr>\n",
       "    <tr>\n",
       "      <th>1</th>\n",
       "      <td>BFBBBBFLLL</td>\n",
       "      <td>BFBBBBF</td>\n",
       "      <td>LLL</td>\n",
       "    </tr>\n",
       "    <tr>\n",
       "      <th>2</th>\n",
       "      <td>FBBBFBFLLR</td>\n",
       "      <td>FBBBFBF</td>\n",
       "      <td>LLR</td>\n",
       "    </tr>\n",
       "    <tr>\n",
       "      <th>3</th>\n",
       "      <td>BFBBBFBLRR</td>\n",
       "      <td>BFBBBFB</td>\n",
       "      <td>LRR</td>\n",
       "    </tr>\n",
       "    <tr>\n",
       "      <th>4</th>\n",
       "      <td>FBBFFBFLRR</td>\n",
       "      <td>FBBFFBF</td>\n",
       "      <td>LRR</td>\n",
       "    </tr>\n",
       "  </tbody>\n",
       "</table>\n",
       "</div>"
      ],
      "text/plain": [
       "  seat_number_code row_number_code column_number_code\n",
       "0       BBFFFFBRLL         BBFFFFB                RLL\n",
       "1       BFBBBBFLLL         BFBBBBF                LLL\n",
       "2       FBBBFBFLLR         FBBBFBF                LLR\n",
       "3       BFBBBFBLRR         BFBBBFB                LRR\n",
       "4       FBBFFBFLRR         FBBFFBF                LRR"
      ]
     },
     "execution_count": 5,
     "metadata": {},
     "output_type": "execute_result"
    }
   ],
   "source": [
    "df.head()"
   ]
  },
  {
   "cell_type": "code",
   "execution_count": 6,
   "metadata": {},
   "outputs": [
    {
     "name": "stdout",
     "output_type": "stream",
     "text": [
      "64.0\n",
      "32.0\n",
      "16.0\n",
      "8.0\n",
      "4.0\n",
      "2.0\n",
      "1.0\n"
     ]
    }
   ],
   "source": [
    "\n",
    "n = int(128)\n",
    "\n",
    "for r in range(0, 7):\n",
    "    \n",
    "    n = n/2\n",
    "    print(n)\n",
    "\n",
    "    \n",
    "    "
   ]
  },
  {
   "cell_type": "code",
   "execution_count": 13,
   "metadata": {},
   "outputs": [
    {
     "name": "stdout",
     "output_type": "stream",
     "text": [
      "max: 127\n",
      "min: 64\n",
      "move: 63.0\n",
      "\n",
      "max: 96\n",
      "min: 64\n",
      "move: 31.5\n",
      "\n",
      "max: 96\n",
      "min: 80\n",
      "move: 16.0\n",
      "\n",
      "max: 96\n",
      "min: 88\n",
      "move: 8.0\n",
      "\n",
      "max: 96\n",
      "min: 92\n",
      "move: 4.0\n",
      "\n",
      "max: 96\n",
      "min: 94\n",
      "move: 2.0\n",
      "\n",
      "max: 95\n",
      "min: 94\n",
      "move: 1.0\n",
      "\n",
      "95\n"
     ]
    }
   ],
   "source": [
    "row_code = 'BFBBBBF'\n",
    "\n",
    "max_row = 127\n",
    "\n",
    "min_row = 1\n",
    "\n",
    "for letter in row_code:\n",
    "    \n",
    "    seat_move = (max_row - min_row) / 2\n",
    "    \n",
    "    if letter == 'B':\n",
    "        \n",
    "        min_row += int(seat_move)\n",
    "        \n",
    "    if letter == 'F':\n",
    "        \n",
    "        max_row -= int(seat_move)\n",
    "        \n",
    "    print('max:',max_row)\n",
    "    print('min:',min_row)\n",
    "    print('move:',seat_move)\n",
    "    print('')\n",
    "\n",
    "if row_code[-1] == 'B':\n",
    "    \n",
    "    print(min_row)\n",
    "    \n",
    "if row_code[-1] == 'F':\n",
    "    \n",
    "    print(max_row)"
   ]
  },
  {
   "cell_type": "code",
   "execution_count": null,
   "metadata": {},
   "outputs": [],
   "source": []
  }
 ],
 "metadata": {
  "kernelspec": {
   "display_name": "Python 3",
   "language": "python",
   "name": "python3"
  },
  "language_info": {
   "codemirror_mode": {
    "name": "ipython",
    "version": 3
   },
   "file_extension": ".py",
   "mimetype": "text/x-python",
   "name": "python",
   "nbconvert_exporter": "python",
   "pygments_lexer": "ipython3",
   "version": "3.7.4"
  }
 },
 "nbformat": 4,
 "nbformat_minor": 4
}
