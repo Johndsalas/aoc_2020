{
 "cells": [
  {
   "cell_type": "code",
   "execution_count": 2,
   "metadata": {},
   "outputs": [],
   "source": [
    "import pandas as pd\n",
    "import re"
   ]
  },
  {
   "cell_type": "code",
   "execution_count": 3,
   "metadata": {},
   "outputs": [],
   "source": [
    "# --- Day 7: Handy Haversacks ---\n",
    "# You land at the regional airport in time for your next flight. \n",
    "# In fact, it looks like you'll even have time to grab some food: all flights are currently delayed due to issues in luggage processing.\n",
    "\n",
    "# Due to recent aviation regulations, many rules (your puzzle input) are being enforced about bags and their contents; bags must be color-coded and must contain specific quantities of other color-coded bags. Apparently, nobody responsible for these regulations considered how long they would take to enforce!\n",
    "\n",
    "# For example, consider the following rules:\n",
    "\n",
    "# light red bags contain 1 bright white bag, 2 muted yellow bags.\n",
    "# dark orange bags contain 3 bright white bags, 4 muted yellow bags.\n",
    "# bright white bags contain 1 shiny gold bag.\n",
    "# muted yellow bags contain 2 shiny gold bags, 9 faded blue bags.\n",
    "# shiny gold bags contain 1 dark olive bag, 2 vibrant plum bags.\n",
    "# dark olive bags contain 3 faded blue bags, 4 dotted black bags.\n",
    "# vibrant plum bags contain 5 faded blue bags, 6 dotted black bags.\n",
    "# faded blue bags contain no other bags.\n",
    "# dotted black bags contain no other bags.\n",
    "# These rules specify the required contents for 9 bag types. In this example, every faded blue bag is empty, every vibrant plum bag contains 11 bags (5 faded blue and 6 dotted black), and so on.\n",
    "\n",
    "# You have a shiny gold bag. If you wanted to carry it in at least one other bag, how many different bag colors would be valid for the outermost bag? (In other words: how many colors can, eventually, contain at least one shiny gold bag?)\n",
    "\n",
    "# In the above rules, the following options would be available to you:\n",
    "\n",
    "# A bright white bag, which can hold your shiny gold bag directly.\n",
    "# A muted yellow bag, which can hold your shiny gold bag directly, plus some other bags.\n",
    "# A dark orange bag, which can hold bright white and muted yellow bags, either of which could then hold your shiny gold bag.\n",
    "# A light red bag, which can hold bright white and muted yellow bags, either of which could then hold your shiny gold bag.\n",
    "# So, in this example, the number of bag colors that can eventually contain at least one shiny gold bag is 4.\n",
    "\n",
    "# How many bag colors can eventually contain at least one shiny gold bag? (The list of rules is quite long; make sure you get all of it.)"
   ]
  },
  {
   "cell_type": "code",
   "execution_count": 7,
   "metadata": {},
   "outputs": [
    {
     "data": {
      "text/html": [
       "<div>\n",
       "<style scoped>\n",
       "    .dataframe tbody tr th:only-of-type {\n",
       "        vertical-align: middle;\n",
       "    }\n",
       "\n",
       "    .dataframe tbody tr th {\n",
       "        vertical-align: top;\n",
       "    }\n",
       "\n",
       "    .dataframe thead th {\n",
       "        text-align: right;\n",
       "    }\n",
       "</style>\n",
       "<table border=\"1\" class=\"dataframe\">\n",
       "  <thead>\n",
       "    <tr style=\"text-align: right;\">\n",
       "      <th></th>\n",
       "      <th>bags</th>\n",
       "    </tr>\n",
       "  </thead>\n",
       "  <tbody>\n",
       "    <tr>\n",
       "      <th>0</th>\n",
       "      <td>striped white bags contain 4 drab silver bags.</td>\n",
       "    </tr>\n",
       "    <tr>\n",
       "      <th>1</th>\n",
       "      <td>drab silver bags contain no other bags.</td>\n",
       "    </tr>\n",
       "    <tr>\n",
       "      <th>2</th>\n",
       "      <td>pale plum bags contain 1 dark black bag.</td>\n",
       "    </tr>\n",
       "    <tr>\n",
       "      <th>3</th>\n",
       "      <td>muted gold bags contain 1 wavy red bag, 3 mirr...</td>\n",
       "    </tr>\n",
       "    <tr>\n",
       "      <th>4</th>\n",
       "      <td>muted teal bags contain 2 pale beige bags, 5 c...</td>\n",
       "    </tr>\n",
       "  </tbody>\n",
       "</table>\n",
       "</div>"
      ],
      "text/plain": [
       "                                                bags\n",
       "0     striped white bags contain 4 drab silver bags.\n",
       "1            drab silver bags contain no other bags.\n",
       "2           pale plum bags contain 1 dark black bag.\n",
       "3  muted gold bags contain 1 wavy red bag, 3 mirr...\n",
       "4  muted teal bags contain 2 pale beige bags, 5 c..."
      ]
     },
     "execution_count": 7,
     "metadata": {},
     "output_type": "execute_result"
    }
   ],
   "source": [
    "df = pd.read_excel('bags.xlsx')\n",
    "df.head()"
   ]
  },
  {
   "cell_type": "code",
   "execution_count": 17,
   "metadata": {},
   "outputs": [
    {
     "name": "stdout",
     "output_type": "stream",
     "text": [
      "striped white   4 drab silver bags\n"
     ]
    }
   ],
   "source": [
    "value = 'striped white bags contain 4 drab silver bags.'\n",
    "\n",
    "value = re.findall(r'(.*)bags contain(.*)\\.',value)\n",
    "\n",
    "bags = value[0][0]\n",
    "contents = value[0][1]\n",
    "\n",
    "print(bags,contents)"
   ]
  },
  {
   "cell_type": "code",
   "execution_count": 18,
   "metadata": {},
   "outputs": [],
   "source": [
    "def get_bag_contents(value):\n",
    "    \n",
    "    value = re.findall(r'(.*)bags contain(.*)\\.',value)\n",
    "\n",
    "    return value[0][1]"
   ]
  },
  {
   "cell_type": "code",
   "execution_count": 19,
   "metadata": {},
   "outputs": [],
   "source": [
    "def get_bags(value):\n",
    "    \n",
    "    value = re.findall(r'(.*)bags contain(.*)\\.',value)\n",
    "\n",
    "    return value[0][0]"
   ]
  },
  {
   "cell_type": "code",
   "execution_count": 22,
   "metadata": {},
   "outputs": [],
   "source": [
    "df['contents'] = df.bags.apply(get_bag_contents)\n",
    "df['bags'] = df.bags.apply(get_bags)"
   ]
  },
  {
   "cell_type": "code",
   "execution_count": 23,
   "metadata": {},
   "outputs": [
    {
     "data": {
      "text/html": [
       "<div>\n",
       "<style scoped>\n",
       "    .dataframe tbody tr th:only-of-type {\n",
       "        vertical-align: middle;\n",
       "    }\n",
       "\n",
       "    .dataframe tbody tr th {\n",
       "        vertical-align: top;\n",
       "    }\n",
       "\n",
       "    .dataframe thead th {\n",
       "        text-align: right;\n",
       "    }\n",
       "</style>\n",
       "<table border=\"1\" class=\"dataframe\">\n",
       "  <thead>\n",
       "    <tr style=\"text-align: right;\">\n",
       "      <th></th>\n",
       "      <th>bags</th>\n",
       "      <th>contents</th>\n",
       "    </tr>\n",
       "  </thead>\n",
       "  <tbody>\n",
       "    <tr>\n",
       "      <th>0</th>\n",
       "      <td>striped white</td>\n",
       "      <td>4 drab silver bags</td>\n",
       "    </tr>\n",
       "    <tr>\n",
       "      <th>1</th>\n",
       "      <td>drab silver</td>\n",
       "      <td>no other bags</td>\n",
       "    </tr>\n",
       "    <tr>\n",
       "      <th>2</th>\n",
       "      <td>pale plum</td>\n",
       "      <td>1 dark black bag</td>\n",
       "    </tr>\n",
       "    <tr>\n",
       "      <th>3</th>\n",
       "      <td>muted gold</td>\n",
       "      <td>1 wavy red bag, 3 mirrored violet bags, 5 bri...</td>\n",
       "    </tr>\n",
       "    <tr>\n",
       "      <th>4</th>\n",
       "      <td>muted teal</td>\n",
       "      <td>2 pale beige bags, 5 clear beige bags, 2 dott...</td>\n",
       "    </tr>\n",
       "  </tbody>\n",
       "</table>\n",
       "</div>"
      ],
      "text/plain": [
       "             bags                                           contents\n",
       "0  striped white                                  4 drab silver bags\n",
       "1    drab silver                                       no other bags\n",
       "2      pale plum                                    1 dark black bag\n",
       "3     muted gold    1 wavy red bag, 3 mirrored violet bags, 5 bri...\n",
       "4     muted teal    2 pale beige bags, 5 clear beige bags, 2 dott..."
      ]
     },
     "execution_count": 23,
     "metadata": {},
     "output_type": "execute_result"
    }
   ],
   "source": [
    "df.head()"
   ]
  },
  {
   "cell_type": "code",
   "execution_count": 28,
   "metadata": {},
   "outputs": [
    {
     "data": {
      "text/html": [
       "<div>\n",
       "<style scoped>\n",
       "    .dataframe tbody tr th:only-of-type {\n",
       "        vertical-align: middle;\n",
       "    }\n",
       "\n",
       "    .dataframe tbody tr th {\n",
       "        vertical-align: top;\n",
       "    }\n",
       "\n",
       "    .dataframe thead th {\n",
       "        text-align: right;\n",
       "    }\n",
       "</style>\n",
       "<table border=\"1\" class=\"dataframe\">\n",
       "  <thead>\n",
       "    <tr style=\"text-align: right;\">\n",
       "      <th></th>\n",
       "      <th>bags</th>\n",
       "      <th>contents</th>\n",
       "      <th>contains_sgb</th>\n",
       "    </tr>\n",
       "  </thead>\n",
       "  <tbody>\n",
       "    <tr>\n",
       "      <th>66</th>\n",
       "      <td>dim maroon</td>\n",
       "      <td>5 shiny gold bags, 4 mirrored maroon bags</td>\n",
       "      <td>True</td>\n",
       "    </tr>\n",
       "    <tr>\n",
       "      <th>85</th>\n",
       "      <td>drab lavender</td>\n",
       "      <td>2 plaid black bags, 4 dotted gray bags, 1 dim...</td>\n",
       "      <td>True</td>\n",
       "    </tr>\n",
       "    <tr>\n",
       "      <th>434</th>\n",
       "      <td>plaid gold</td>\n",
       "      <td>5 shiny beige bags, 3 faded fuchsia bags, 5 v...</td>\n",
       "      <td>True</td>\n",
       "    </tr>\n",
       "    <tr>\n",
       "      <th>466</th>\n",
       "      <td>posh salmon</td>\n",
       "      <td>4 dim plum bags, 1 pale yellow bag, 2 shiny g...</td>\n",
       "      <td>True</td>\n",
       "    </tr>\n",
       "    <tr>\n",
       "      <th>536</th>\n",
       "      <td>dotted lime</td>\n",
       "      <td>1 shiny gold bag, 3 plaid crimson bags</td>\n",
       "      <td>True</td>\n",
       "    </tr>\n",
       "    <tr>\n",
       "      <th>593</th>\n",
       "      <td>muted white</td>\n",
       "      <td>3 muted tomato bags, 5 light black bags, 4 pa...</td>\n",
       "      <td>True</td>\n",
       "    </tr>\n",
       "  </tbody>\n",
       "</table>\n",
       "</div>"
      ],
      "text/plain": [
       "               bags                                           contents  \\\n",
       "66      dim maroon           5 shiny gold bags, 4 mirrored maroon bags   \n",
       "85   drab lavender    2 plaid black bags, 4 dotted gray bags, 1 dim...   \n",
       "434     plaid gold    5 shiny beige bags, 3 faded fuchsia bags, 5 v...   \n",
       "466    posh salmon    4 dim plum bags, 1 pale yellow bag, 2 shiny g...   \n",
       "536    dotted lime              1 shiny gold bag, 3 plaid crimson bags   \n",
       "593    muted white    3 muted tomato bags, 5 light black bags, 4 pa...   \n",
       "\n",
       "     contains_sgb  \n",
       "66           True  \n",
       "85           True  \n",
       "434          True  \n",
       "466          True  \n",
       "536          True  \n",
       "593          True  "
      ]
     },
     "execution_count": 28,
     "metadata": {},
     "output_type": "execute_result"
    }
   ],
   "source": [
    "# bags that contain shiny gold bags Series.str.contains(string)\n",
    "\n",
    "df['contains_sgb'] = df.contents.str.contains('shiny gold bag')\n",
    "\n",
    "df_sgb = df[df.contains_sgb == True]\n",
    "\n",
    "df_sgb"
   ]
  },
  {
   "cell_type": "code",
   "execution_count": 27,
   "metadata": {},
   "outputs": [
    {
     "data": {
      "text/plain": [
       "False    588\n",
       "True       6\n",
       "Name: contains_sgb, dtype: int64"
      ]
     },
     "execution_count": 27,
     "metadata": {},
     "output_type": "execute_result"
    }
   ],
   "source": [
    "df.contains_sgb.value_counts()"
   ]
  },
  {
   "cell_type": "code",
   "execution_count": null,
   "metadata": {},
   "outputs": [],
   "source": []
  }
 ],
 "metadata": {
  "kernelspec": {
   "display_name": "Python 3",
   "language": "python",
   "name": "python3"
  },
  "language_info": {
   "codemirror_mode": {
    "name": "ipython",
    "version": 3
   },
   "file_extension": ".py",
   "mimetype": "text/x-python",
   "name": "python",
   "nbconvert_exporter": "python",
   "pygments_lexer": "ipython3",
   "version": "3.7.4"
  }
 },
 "nbformat": 4,
 "nbformat_minor": 4
}
