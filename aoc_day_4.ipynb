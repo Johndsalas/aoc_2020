{
 "cells": [
  {
   "cell_type": "code",
   "execution_count": 1,
   "metadata": {},
   "outputs": [],
   "source": [
    "import pandas as pd\n",
    "import re"
   ]
  },
  {
   "cell_type": "code",
   "execution_count": 2,
   "metadata": {},
   "outputs": [],
   "source": [
    "# --- Day 4: Passport Processing ---\n",
    "# You arrive at the airport only to realize that you grabbed your North Pole Credentials instead of your passport. While these documents are extremely similar, North Pole Credentials aren't issued by a country and therefore aren't actually valid documentation for travel in most of the world.\n",
    "\n",
    "# It seems like you're not the only one having problems, though; a very long line has formed for the automatic passport scanners, and the delay could upset your travel itinerary.\n",
    "\n",
    "# Due to some questionable network security, you realize you might be able to solve both of these problems at the same time.\n",
    "\n",
    "# The automatic passport scanners are slow because they're having trouble detecting which passports have all required fields. The expected fields are as follows:\n",
    "\n",
    "# byr (Birth Year)\n",
    "# iyr (Issue Year)\n",
    "# eyr (Expiration Year)\n",
    "# hgt (Height)\n",
    "# hcl (Hair Color)\n",
    "# ecl (Eye Color)\n",
    "# pid (Passport ID)\n",
    "# cid (Country ID)\n",
    "# Passport data is validated in batch files (your puzzle input). Each passport is represented as a sequence of key:value pairs separated by spaces or newlines. Passports are separated by blank lines.\n",
    "\n",
    "# Here is an example batch file containing four passports:\n",
    "\n",
    "# ecl:gry pid:860033327 eyr:2020 hcl:#fffffd\n",
    "# byr:1937 iyr:2017 cid:147 hgt:183cm\n",
    "\n",
    "# iyr:2013 ecl:amb cid:350 eyr:2023 pid:028048884\n",
    "# hcl:#cfa07d byr:1929\n",
    "\n",
    "# hcl:#ae17e1 iyr:2013\n",
    "# eyr:2024\n",
    "# ecl:brn pid:760753108 byr:1931\n",
    "# hgt:179cm\n",
    "\n",
    "# hcl:#cfa07d eyr:2025 pid:166559648\n",
    "# iyr:2011 ecl:brn hgt:59in\n",
    "# The first passport is valid - all eight fields are present. The second passport is invalid - it is missing hgt (the Height field).\n",
    "\n",
    "# The third passport is interesting; the only missing field is cid, so it looks like data from North Pole Credentials, not a passport at all! Surely, nobody would mind if you made the system temporarily ignore missing cid fields. Treat this \"passport\" as valid.\n",
    "\n",
    "# The fourth passport is missing two fields, cid and byr. Missing cid is fine, but missing any other field is not, so this passport is invalid.\n",
    "\n",
    "# According to the above rules, your improved system would report 2 valid passports.\n",
    "\n",
    "# Count the number of valid passports - those that have all required fields. Treat cid as optional. In your batch file, how many passports are valid?"
   ]
  },
  {
   "cell_type": "code",
   "execution_count": 3,
   "metadata": {},
   "outputs": [],
   "source": [
    "with open('verify.txt') as f:\n",
    "    lines = f.read()\n",
    "\n",
    "ids = lines.split(\"\\n\\n\")"
   ]
  },
  {
   "cell_type": "code",
   "execution_count": 4,
   "metadata": {},
   "outputs": [],
   "source": [
    "df = pd.DataFrame(ids)"
   ]
  },
  {
   "cell_type": "code",
   "execution_count": 5,
   "metadata": {},
   "outputs": [
    {
     "data": {
      "text/html": [
       "<div>\n",
       "<style scoped>\n",
       "    .dataframe tbody tr th:only-of-type {\n",
       "        vertical-align: middle;\n",
       "    }\n",
       "\n",
       "    .dataframe tbody tr th {\n",
       "        vertical-align: top;\n",
       "    }\n",
       "\n",
       "    .dataframe thead th {\n",
       "        text-align: right;\n",
       "    }\n",
       "</style>\n",
       "<table border=\"1\" class=\"dataframe\">\n",
       "  <thead>\n",
       "    <tr style=\"text-align: right;\">\n",
       "      <th></th>\n",
       "      <th>ids</th>\n",
       "    </tr>\n",
       "  </thead>\n",
       "  <tbody>\n",
       "    <tr>\n",
       "      <th>0</th>\n",
       "      <td>hgt:176cm\\niyr:2013\\nhcl:#fffffd ecl:amb\\nbyr:...</td>\n",
       "    </tr>\n",
       "    <tr>\n",
       "      <th>1</th>\n",
       "      <td>hcl:#b5c3db ecl:grn hgt:155cm pid:#baec97 iyr:...</td>\n",
       "    </tr>\n",
       "    <tr>\n",
       "      <th>2</th>\n",
       "      <td>pid:526669252 eyr:1972\\nhgt:152cm ecl:dne byr:...</td>\n",
       "    </tr>\n",
       "    <tr>\n",
       "      <th>3</th>\n",
       "      <td>eyr:2028 hcl:#c0946f hgt:73in byr:1926 ecl:#47...</td>\n",
       "    </tr>\n",
       "    <tr>\n",
       "      <th>4</th>\n",
       "      <td>pid:472686027 ecl:oth iyr:2019\\ncid:277 byr:19...</td>\n",
       "    </tr>\n",
       "  </tbody>\n",
       "</table>\n",
       "</div>"
      ],
      "text/plain": [
       "                                                 ids\n",
       "0  hgt:176cm\\niyr:2013\\nhcl:#fffffd ecl:amb\\nbyr:...\n",
       "1  hcl:#b5c3db ecl:grn hgt:155cm pid:#baec97 iyr:...\n",
       "2  pid:526669252 eyr:1972\\nhgt:152cm ecl:dne byr:...\n",
       "3  eyr:2028 hcl:#c0946f hgt:73in byr:1926 ecl:#47...\n",
       "4  pid:472686027 ecl:oth iyr:2019\\ncid:277 byr:19..."
      ]
     },
     "execution_count": 5,
     "metadata": {},
     "output_type": "execute_result"
    }
   ],
   "source": [
    "df = df.rename(columns = {0:\"ids\"})\n",
    "df.head()"
   ]
  },
  {
   "cell_type": "code",
   "execution_count": 6,
   "metadata": {},
   "outputs": [],
   "source": [
    "def remove_line_break(value):\n",
    "    \n",
    "    value = re.sub(r'\\n',' ',value)\n",
    "    \n",
    "    return value"
   ]
  },
  {
   "cell_type": "code",
   "execution_count": 7,
   "metadata": {},
   "outputs": [
    {
     "data": {
      "text/html": [
       "<div>\n",
       "<style scoped>\n",
       "    .dataframe tbody tr th:only-of-type {\n",
       "        vertical-align: middle;\n",
       "    }\n",
       "\n",
       "    .dataframe tbody tr th {\n",
       "        vertical-align: top;\n",
       "    }\n",
       "\n",
       "    .dataframe thead th {\n",
       "        text-align: right;\n",
       "    }\n",
       "</style>\n",
       "<table border=\"1\" class=\"dataframe\">\n",
       "  <thead>\n",
       "    <tr style=\"text-align: right;\">\n",
       "      <th></th>\n",
       "      <th>ids</th>\n",
       "    </tr>\n",
       "  </thead>\n",
       "  <tbody>\n",
       "    <tr>\n",
       "      <th>0</th>\n",
       "      <td>hgt:176cm iyr:2013 hcl:#fffffd ecl:amb byr:200...</td>\n",
       "    </tr>\n",
       "    <tr>\n",
       "      <th>1</th>\n",
       "      <td>hcl:#b5c3db ecl:grn hgt:155cm pid:#baec97 iyr:...</td>\n",
       "    </tr>\n",
       "    <tr>\n",
       "      <th>2</th>\n",
       "      <td>pid:526669252 eyr:1972 hgt:152cm ecl:dne byr:1...</td>\n",
       "    </tr>\n",
       "    <tr>\n",
       "      <th>3</th>\n",
       "      <td>eyr:2028 hcl:#c0946f hgt:73in byr:1926 ecl:#47...</td>\n",
       "    </tr>\n",
       "    <tr>\n",
       "      <th>4</th>\n",
       "      <td>pid:472686027 ecl:oth iyr:2019 cid:277 byr:194...</td>\n",
       "    </tr>\n",
       "  </tbody>\n",
       "</table>\n",
       "</div>"
      ],
      "text/plain": [
       "                                                 ids\n",
       "0  hgt:176cm iyr:2013 hcl:#fffffd ecl:amb byr:200...\n",
       "1  hcl:#b5c3db ecl:grn hgt:155cm pid:#baec97 iyr:...\n",
       "2  pid:526669252 eyr:1972 hgt:152cm ecl:dne byr:1...\n",
       "3  eyr:2028 hcl:#c0946f hgt:73in byr:1926 ecl:#47...\n",
       "4  pid:472686027 ecl:oth iyr:2019 cid:277 byr:194..."
      ]
     },
     "execution_count": 7,
     "metadata": {},
     "output_type": "execute_result"
    }
   ],
   "source": [
    "df['ids'] = df.ids.apply(remove_line_break)\n",
    "df.head()"
   ]
  },
  {
   "cell_type": "code",
   "execution_count": 8,
   "metadata": {},
   "outputs": [
    {
     "name": "stdout",
     "output_type": "stream",
     "text": [
      "<class 'pandas.core.frame.DataFrame'>\n",
      "RangeIndex: 255 entries, 0 to 254\n",
      "Data columns (total 1 columns):\n",
      " #   Column  Non-Null Count  Dtype \n",
      "---  ------  --------------  ----- \n",
      " 0   ids     255 non-null    object\n",
      "dtypes: object(1)\n",
      "memory usage: 2.1+ KB\n"
     ]
    }
   ],
   "source": [
    "df.info()"
   ]
  },
  {
   "cell_type": "code",
   "execution_count": 9,
   "metadata": {},
   "outputs": [
    {
     "name": "stdout",
     "output_type": "stream",
     "text": [
      "<class 'pandas.core.frame.DataFrame'>\n",
      "RangeIndex: 255 entries, 0 to 254\n",
      "Data columns (total 1 columns):\n",
      " #   Column  Non-Null Count  Dtype \n",
      "---  ------  --------------  ----- \n",
      " 0   ids     255 non-null    string\n",
      "dtypes: string(1)\n",
      "memory usage: 2.1 KB\n"
     ]
    }
   ],
   "source": [
    "df = df.astype('string',copy=False)\n",
    "df.info()"
   ]
  },
  {
   "cell_type": "code",
   "execution_count": 10,
   "metadata": {},
   "outputs": [],
   "source": [
    "# byr (Birth Year)\n",
    "# iyr (Issue Year)\n",
    "# eyr (Expiration Year)\n",
    "# hgt (Height)\n",
    "# hcl (Hair Color)\n",
    "# ecl (Eye Color)\n",
    "# pid (Passport ID)\n",
    "# cid (Country ID)"
   ]
  },
  {
   "cell_type": "code",
   "execution_count": 11,
   "metadata": {},
   "outputs": [
    {
     "data": {
      "text/plain": [
       "False"
      ]
     },
     "execution_count": 11,
     "metadata": {},
     "output_type": "execute_result"
    }
   ],
   "source": [
    "value = 'pid:526669252 eyr:1972 hgt:152cm ecl:dne byr:1'\n",
    "\n",
    "'hgt:' not in value"
   ]
  },
  {
   "cell_type": "code",
   "execution_count": 12,
   "metadata": {},
   "outputs": [],
   "source": [
    "   \n",
    "def check_ids(value):\n",
    "    \n",
    "    items = ['byr:','iyr:','eyr:','hgt:','hcl:','ecl:','pid:']\n",
    "\n",
    "    for item in items:\n",
    "\n",
    "        if item not in value:\n",
    "\n",
    "            print(item)\n",
    "            print(value)\n",
    "            return False\n",
    "\n",
    "    return True\n",
    "\n"
   ]
  },
  {
   "cell_type": "code",
   "execution_count": 13,
   "metadata": {},
   "outputs": [
    {
     "name": "stdout",
     "output_type": "stream",
     "text": [
      "ecl:\n",
      "hcl:#cfa07d hgt:157cm byr:1994 eyr:2027 pid:344443856 iyr:2016\n",
      "eyr:\n",
      "byr:2014 hcl:z iyr:2029 cid:279 pid:28914607 hgt:75cm ecl:xry\n",
      "ecl:\n",
      "hgt:167cm byr:2009 eyr:1975 cid:295 pid:174cm iyr:2029 hcl:z\n",
      "byr:\n",
      "hcl:#b6652a pid:485327267 ecl:brn hgt:155cm eyr:2028 iyr:2019\n",
      "byr:\n",
      "hcl:#b6652a ecl:hzl eyr:2023 iyr:2012 pid:513268492 hgt:159cm\n",
      "byr:\n",
      "cid:84 hgt:71in ecl:blu pid:982719716 eyr:2020 iyr:2014\n",
      "byr:\n",
      "ecl:gry hcl:#888785 eyr:2020 pid:442479017 iyr:2016\n",
      "iyr:\n",
      "ecl:grn hgt:64in pid:796889811 hcl:#18171d byr:1929 eyr:2027\n",
      "eyr:\n",
      "iyr:2018 hgt:73in pid:652356158 hcl:#c0946f ecl:grn byr:1973\n",
      "pid:\n",
      "cid:210 ecl:brn iyr:2017 eyr:2030 hgt:176cm hcl:#efcc98 byr:1965\n",
      "byr:\n",
      "iyr:2015 hcl:#602927 cid:268 eyr:2021 ecl:amb hgt:186cm pid:318676962\n",
      "pid:\n",
      "eyr:2028 byr:1974 ecl:brn iyr:2010 hcl:#18171d hgt:160cm\n",
      "byr:\n",
      "iyr:2026 pid:184cm ecl:gmt hcl:z hgt:71cm eyr:2029\n",
      "hgt:\n",
      "byr:1961 iyr:2010 ecl:blu eyr:2023 pid:245858010\n",
      "iyr:\n",
      "hgt:193cm pid:821303249 eyr:2020 hcl:#6b5442 cid:130 byr:1946\n",
      "byr:\n",
      "hgt:164in pid:953500867 eyr:2021 iyr:2014 hcl:z cid:343 ecl:amb\n",
      "iyr:\n",
      "pid:263729839 hgt:189cm eyr:2030 ecl:gry byr:2001 hcl:#602927\n",
      "iyr:\n",
      "ecl:oth byr:1980 pid:253747166 eyr:2029 hcl:#6b5442 hgt:186cm\n",
      "pid:\n",
      "iyr:2015 hcl:e1ed55 hgt:160in ecl:utc byr:2015 eyr:2036\n",
      "byr:\n",
      "pid:101149939 eyr:2024 iyr:2018 hgt:165cm ecl:hzl hcl:#ceb3a1 cid:176\n",
      "hcl:\n",
      "cid:123 iyr:2014 byr:2000 pid:878733390 eyr:2021 ecl:hzl hgt:162cm\n",
      "hcl:\n",
      "byr:1959 cid:259 pid:722895016 ecl:brn iyr:2018 eyr:2027 hgt:185cm\n",
      "hgt:\n",
      "byr:1948 iyr:2023 pid:17288381 hcl:6a34a3 ecl:#671ece eyr:2001 cid:152\n",
      "byr:\n",
      "iyr:2020 hcl:#733820 pid:854531642 hgt:165cm ecl:hzl eyr:2022\n",
      "iyr:\n",
      "hgt:164cm byr:1949 ecl:gry eyr:2026 hcl:#623a2f\n"
     ]
    }
   ],
   "source": [
    "df['id_check'] = df.ids.apply(check_ids)"
   ]
  },
  {
   "cell_type": "code",
   "execution_count": 14,
   "metadata": {},
   "outputs": [
    {
     "data": {
      "text/plain": [
       "True     230\n",
       "False     25\n",
       "Name: id_check, dtype: int64"
      ]
     },
     "execution_count": 14,
     "metadata": {},
     "output_type": "execute_result"
    }
   ],
   "source": [
    "df.id_check.value_counts()"
   ]
  },
  {
   "cell_type": "code",
   "execution_count": 15,
   "metadata": {},
   "outputs": [],
   "source": [
    "# --- Day 4: Passport Processing ---\n",
    "# You arrive at the airport only to realize that you grabbed your North Pole Credentials instead of your passport. While these documents are extremely similar, North Pole Credentials aren't issued by a country and therefore aren't actually valid documentation for travel in most of the world.\n",
    "\n",
    "# It seems like you're not the only one having problems, though; a very long line has formed for the automatic passport scanners, and the delay could upset your travel itinerary.\n",
    "\n",
    "# Due to some questionable network security, you realize you might be able to solve both of these problems at the same time.\n",
    "\n",
    "# The automatic passport scanners are slow because they're having trouble detecting which passports have all required fields. The expected fields are as follows:\n",
    "\n",
    "# byr (Birth Year)\n",
    "# iyr (Issue Year)\n",
    "# eyr (Expiration Year)\n",
    "# hgt (Height)\n",
    "# hcl (Hair Color)\n",
    "# ecl (Eye Color)\n",
    "# pid (Passport ID)\n",
    "# cid (Country ID)\n",
    "# Passport data is validated in batch files (your puzzle input). Each passport is represented as a sequence of key:value pairs separated by spaces or newlines. Passports are separated by blank lines.\n",
    "\n",
    "# Here is an example batch file containing four passports:\n",
    "\n",
    "# ecl:gry pid:860033327 eyr:2020 hcl:#fffffd\n",
    "# byr:1937 iyr:2017 cid:147 hgt:183cm\n",
    "\n",
    "# iyr:2013 ecl:amb cid:350 eyr:2023 pid:028048884\n",
    "# hcl:#cfa07d byr:1929\n",
    "\n",
    "# hcl:#ae17e1 iyr:2013\n",
    "# eyr:2024\n",
    "# ecl:brn pid:760753108 byr:1931\n",
    "# hgt:179cm\n",
    "\n",
    "# hcl:#cfa07d eyr:2025 pid:166559648\n",
    "# iyr:2011 ecl:brn hgt:59in\n",
    "# The first passport is valid - all eight fields are present. The second passport is invalid - it is missing hgt (the Height field).\n",
    "\n",
    "# The third passport is interesting; the only missing field is cid, so it looks like data from North Pole Credentials, not a passport at all! Surely, nobody would mind if you made the system temporarily ignore missing cid fields. Treat this \"passport\" as valid.\n",
    "\n",
    "# The fourth passport is missing two fields, cid and byr. Missing cid is fine, but missing any other field is not, so this passport is invalid.\n",
    "\n",
    "# According to the above rules, your improved system would report 2 valid passports.\n",
    "\n",
    "# Count the number of valid passports - those that have all required fields. Treat cid as optional. In your batch file, how many passports are valid?\n",
    "\n",
    "# Your puzzle answer was 230.\n",
    "\n",
    "# The first half of this puzzle is complete! It provides one gold star: *\n",
    "\n",
    "# --- Part Two ---\n",
    "# The line is moving more quickly now, but you overhear airport security talking about how passports with invalid data are getting through. Better add some data validation, quick!\n",
    "\n",
    "# You can continue to ignore the cid field, but each other field has strict rules about what values are valid for automatic validation:\n",
    "\n",
    "# byr (Birth Year) - four digits; at least 1920 and at most 2002.\n",
    "# iyr (Issue Year) - four digits; at least 2010 and at most 2020.\n",
    "# eyr (Expiration Year) - four digits; at least 2020 and at most 2030.\n",
    "# hgt (Height) - a number followed by either cm or in:\n",
    "# If cm, the number must be at least 150 and at most 193.\n",
    "# If in, the number must be at least 59 and at most 76.\n",
    "# hcl (Hair Color) - a # followed by exactly six characters 0-9 or a-f.\n",
    "# ecl (Eye Color) - exactly one of: amb blu brn gry grn hzl oth.\n",
    "# pid (Passport ID) - a nine-digit number, including leading zeroes.\n",
    "# cid (Country ID) - ignored, missing or not.\n",
    "# Your job is to count the passports where all required fields are both present and valid according to the above rules. Here are some example values:\n",
    "\n",
    "# byr valid:   2002\n",
    "# byr invalid: 2003\n",
    "\n",
    "# hgt valid:   60in\n",
    "# hgt valid:   190cm\n",
    "# hgt invalid: 190in\n",
    "# hgt invalid: 190\n",
    "\n",
    "# hcl valid:   #123abc\n",
    "# hcl invalid: #123abz\n",
    "# hcl invalid: 123abc\n",
    "\n",
    "# ecl valid:   brn\n",
    "# ecl invalid: wat\n",
    "\n",
    "# pid valid:   000000001\n",
    "# pid invalid: 0123456789\n",
    "# Here are some invalid passports:\n",
    "\n",
    "# eyr:1972 cid:100\n",
    "# hcl:#18171d ecl:amb hgt:170 pid:186cm iyr:2018 byr:1926\n",
    "\n",
    "# iyr:2019\n",
    "# hcl:#602927 eyr:1967 hgt:170cm\n",
    "# ecl:grn pid:012533040 byr:1946\n",
    "\n",
    "# hcl:dab227 iyr:2012\n",
    "# ecl:brn hgt:182cm pid:021572410 eyr:2020 byr:1992 cid:277\n",
    "\n",
    "# hgt:59cm ecl:zzz\n",
    "# eyr:2038 hcl:74454a iyr:2023\n",
    "# pid:3556412378 byr:2007\n",
    "# Here are some valid passports:\n",
    "\n",
    "# pid:087499704 hgt:74in ecl:grn iyr:2012 eyr:2030 byr:1980\n",
    "# hcl:#623a2f\n",
    "\n",
    "# eyr:2029 ecl:blu cid:129 byr:1989\n",
    "# iyr:2014 pid:896056539 hcl:#a97842 hgt:165cm\n",
    "\n",
    "# hcl:#888785\n",
    "# hgt:164cm byr:2001 iyr:2015 cid:88\n",
    "# pid:545766238 ecl:hzl\n",
    "# eyr:2022\n",
    "\n",
    "# iyr:2010 hgt:158cm hcl:#b6652a ecl:blu byr:1944 eyr:2021 pid:093154719\n",
    "# Count the number of valid passports - those that have all required fields and valid values. Continue to treat cid as optional. In your batch file, how many passports are valid?"
   ]
  },
  {
   "cell_type": "code",
   "execution_count": 16,
   "metadata": {},
   "outputs": [],
   "source": [
    "# byr (Birth Year) - four digits; at least 1920 and at most 2002.\n",
    "# iyr (Issue Year) - four digits; at least 2010 and at most 2020.\n",
    "# eyr (Expiration Year) - four digits; at least 2020 and at most 2030.\n",
    "# hgt (Height) - a number followed by either cm or in:\n",
    "# hcl (Hair Color) - a # followed by exactly six characters 0-9 or a-f.\n",
    "# ecl (Eye Color) - exactly one of: amb blu brn gry grn hzl oth.\n",
    "# pid (Passport ID) - a nine-digit number, including leading zeroes."
   ]
  },
  {
   "cell_type": "code",
   "execution_count": 17,
   "metadata": {},
   "outputs": [
    {
     "data": {
      "text/plain": [
       "'hcl:#b5c3db ecl:grn hgt:155cm pid:#baec97 iyr:2017 byr:1939 eyr:2020'"
      ]
     },
     "execution_count": 17,
     "metadata": {},
     "output_type": "execute_result"
    }
   ],
   "source": [
    "df.ids[1]"
   ]
  },
  {
   "cell_type": "code",
   "execution_count": 18,
   "metadata": {},
   "outputs": [
    {
     "data": {
      "text/plain": [
       "True    230\n",
       "Name: id_check, dtype: int64"
      ]
     },
     "execution_count": 18,
     "metadata": {},
     "output_type": "execute_result"
    }
   ],
   "source": [
    "df = df[df.id_check == True].copy()\n",
    "df.id_check.value_counts()"
   ]
  },
  {
   "cell_type": "code",
   "execution_count": 19,
   "metadata": {},
   "outputs": [
    {
     "data": {
      "text/plain": [
       "False"
      ]
     },
     "execution_count": 19,
     "metadata": {},
     "output_type": "execute_result"
    }
   ],
   "source": [
    "value = 'hgt:176cm iyr:2013 hcl:#fffffd ecl:amb byr:2000 eyr:2034 cid:89 pid:934693255'\n",
    "\n",
    "count = 0\n",
    "\n",
    "hgt = re.findall(r'hgt:(\\S+\\w\\w)',value)[0]\n",
    "iyr = re.findall(r'iyr:(\\S+)',value)[0]\n",
    "hcl = re.findall(r'hcl:(\\S+)',value)[0]\n",
    "ecl = re.findall(r'ecl:(\\S+)',value)[0]\n",
    "byr = re.findall(r'byr:(\\S+)',value)[0]\n",
    "eyr = re.findall(r'eyr:(\\S+)',value)[0]\n",
    "cid = re.findall(r'cid:(\\S+)',value)[0]\n",
    "pid = re.findall(r'pid:(\\S+)',value)[0]\n",
    "\n",
    "# byr (Birth Year) - four digits; at least 1920 and at most 2002.\n",
    "\n",
    "if ((len(byr) == 4) & (int(byr) >= 1920) & (int(byr) <= 2002)):\n",
    "    \n",
    "    count += 1\n",
    "\n",
    "# iyr (Issue Year) - four digits; at least 2010 and at most 2020.\n",
    "\n",
    "if ((len(iyr) == 4) & (int(iyr) >= 2010) & (int(iyr) <= 2020)):\n",
    "    \n",
    "    count += 1\n",
    "    \n",
    "# eyr (Expiration Year) - four digits; at least 2020 and at most 2030.\n",
    "\n",
    "if ((len(eyr) == 4) & (int(eyr) >= 2020) & (int(eyr) <= 2030)):\n",
    "    \n",
    "    count += 1\n",
    "\n",
    "# hgt (Height) - a number followed by either cm or in:\n",
    "# If cm, the number must be at least 150 and at most 193.\n",
    "# If in, the number must be at least 59 and at most 76.\n",
    "\n",
    "hight_type = hgt[-2:]\n",
    "\n",
    "hight_number = int(hgt[0:3])\n",
    "\n",
    "if hight_type == 'cm':\n",
    "    \n",
    "    if hight_number >= 150 & hight_number <= 193:\n",
    "        \n",
    "        count += 1\n",
    "        \n",
    "elif hight_typ == 'in':\n",
    "    \n",
    "    if hight_number >= 59 & hight_number <= 76:\n",
    "        \n",
    "        count += 1\n",
    "\n",
    "\n",
    "# hcl (Hair Color) - a # followed by exactly six characters 0-9 or a-f.\n",
    "\n",
    "hashtag = hcl[0]\n",
    "\n",
    "alph_num = hcl[1:]\n",
    "\n",
    "if (hashtag == \"#\") & (len(alph_num) == 6) & (alph_num.isalnum() == True):\n",
    "    \n",
    "    count += 1\n",
    "# ecl (Eye Color) - exactly one of: amb blu brn gry grn hzl oth.\n",
    "\n",
    "if (ecl == \"amb\") | (ecl == \"blu\") | (ecl == \"brn\") | (ecl == \"gry\") | (ecl == \"grn\") | (ecl == \"hzl\") | (ecl == \"oth\"):\n",
    "    \n",
    "    count += 1\n",
    "# pid (Passport ID) - a nine-digit number, including leading zeroes.\n",
    "\n",
    "if len(pid) == 9:\n",
    "    \n",
    "    count += 1\n",
    "\n",
    "count == 7"
   ]
  },
  {
   "cell_type": "code",
   "execution_count": 26,
   "metadata": {},
   "outputs": [],
   "source": [
    "\n",
    "def valid_ids(value):\n",
    "\n",
    "    count = 0\n",
    "\n",
    "    # byr (Birth Year) - four digits; at least 1920 and at most 2002.\n",
    "\n",
    "    byr = re.findall(r'byr:(\\S+)',value)[0]\n",
    "    \n",
    "    if ((len(byr) == 4) & (int(byr) >= 1920) & (int(byr) <= 2002)):\n",
    "\n",
    "        count += 1\n",
    "\n",
    "    # iyr (Issue Year) - four digits; at least 2010 and at most 2020.\n",
    "\n",
    "    iyr = re.findall(r'iyr:(\\S+)',value)[0]\n",
    "    \n",
    "    if ((len(iyr) == 4) & (int(iyr) >= 2010) & (int(iyr) <= 2020)):\n",
    "\n",
    "        count += 1\n",
    "\n",
    "    # eyr (Expiration Year) - four digits; at least 2020 and at most 2030.\n",
    "\n",
    "    eyr = re.findall(r'eyr:(\\S+)',value)[0]\n",
    "    \n",
    "    if ((len(eyr) == 4) & (int(eyr) >= 2020) & (int(eyr) <= 2030)):\n",
    "\n",
    "        count += 1\n",
    "\n",
    "    # hgt (Height) - a number followed by either cm or in:\n",
    "    # If cm, the number must be at least 150 and at most 193.\n",
    "    # If in, the number must be at least 59 and at most 76.\n",
    "\n",
    "    hgt = re.findall(r'hgt:(\\S*\\w\\w)',value)[0]\n",
    "    \n",
    "    hight_type = hgt[-2:]\n",
    "    \n",
    "    if (hight_type == 'cm') | (hight_type == 'in'):\n",
    "        \n",
    "        hight_number = int(hgt[:-2])\n",
    "    \n",
    "        if hight_type == 'cm':\n",
    "\n",
    "            if (hight_number >= 150) & (hight_number <= 193):\n",
    "\n",
    "                count += 1\n",
    "\n",
    "        elif hight_type == 'in':\n",
    "\n",
    "            if (hight_number >= 59) & (hight_number <= 76):\n",
    "\n",
    "                count += 1\n",
    "\n",
    "    # hcl (Hair Color) - a # followed by exactly six characters 0-9 or a-f.\n",
    "\n",
    "    hcl = re.findall(r'hcl:(\\S+)',value)[0]\n",
    "    \n",
    "    hashtag = hcl[0]\n",
    "\n",
    "    alph_num = hcl[1:]\n",
    "\n",
    "    if (hashtag == \"#\") & (len(alph_num) == 6) & (alph_num.isalnum() == True):\n",
    "\n",
    "        count += 1\n",
    "    # ecl (Eye Color) - exactly one of: amb blu brn gry grn hzl oth.\n",
    "\n",
    "    ecl = re.findall(r'ecl:(\\S+)',value)[0]\n",
    "    \n",
    "    if (ecl == \"amb\") | (ecl == \"blu\") | (ecl == \"brn\") | (ecl == \"gry\") | (ecl == \"grn\") | (ecl == \"hzl\") | (ecl == \"oth\"):\n",
    "\n",
    "        count += 1\n",
    "    # pid (Passport ID) - a nine-digit number, including leading zeroes.\n",
    "\n",
    "    pid = re.findall(r'pid:(\\S+)',value)[0]\n",
    "    \n",
    "    if len(pid) == 9:\n",
    "\n",
    "        count += 1\n",
    "\n",
    "    return count == 7"
   ]
  },
  {
   "cell_type": "code",
   "execution_count": 27,
   "metadata": {},
   "outputs": [],
   "source": [
    "df['id_check_2'] = df.ids.apply(valid_ids)"
   ]
  },
  {
   "cell_type": "code",
   "execution_count": 28,
   "metadata": {},
   "outputs": [
    {
     "data": {
      "text/html": [
       "<div>\n",
       "<style scoped>\n",
       "    .dataframe tbody tr th:only-of-type {\n",
       "        vertical-align: middle;\n",
       "    }\n",
       "\n",
       "    .dataframe tbody tr th {\n",
       "        vertical-align: top;\n",
       "    }\n",
       "\n",
       "    .dataframe thead th {\n",
       "        text-align: right;\n",
       "    }\n",
       "</style>\n",
       "<table border=\"1\" class=\"dataframe\">\n",
       "  <thead>\n",
       "    <tr style=\"text-align: right;\">\n",
       "      <th></th>\n",
       "      <th>ids</th>\n",
       "      <th>id_check</th>\n",
       "      <th>id_check_2</th>\n",
       "    </tr>\n",
       "  </thead>\n",
       "  <tbody>\n",
       "    <tr>\n",
       "      <th>0</th>\n",
       "      <td>hgt:176cm iyr:2013 hcl:#fffffd ecl:amb byr:200...</td>\n",
       "      <td>True</td>\n",
       "      <td>False</td>\n",
       "    </tr>\n",
       "    <tr>\n",
       "      <th>1</th>\n",
       "      <td>hcl:#b5c3db ecl:grn hgt:155cm pid:#baec97 iyr:...</td>\n",
       "      <td>True</td>\n",
       "      <td>False</td>\n",
       "    </tr>\n",
       "    <tr>\n",
       "      <th>2</th>\n",
       "      <td>pid:526669252 eyr:1972 hgt:152cm ecl:dne byr:1...</td>\n",
       "      <td>True</td>\n",
       "      <td>False</td>\n",
       "    </tr>\n",
       "    <tr>\n",
       "      <th>3</th>\n",
       "      <td>eyr:2028 hcl:#c0946f hgt:73in byr:1926 ecl:#47...</td>\n",
       "      <td>True</td>\n",
       "      <td>False</td>\n",
       "    </tr>\n",
       "    <tr>\n",
       "      <th>4</th>\n",
       "      <td>pid:472686027 ecl:oth iyr:2019 cid:277 byr:194...</td>\n",
       "      <td>True</td>\n",
       "      <td>True</td>\n",
       "    </tr>\n",
       "  </tbody>\n",
       "</table>\n",
       "</div>"
      ],
      "text/plain": [
       "                                                 ids  id_check  id_check_2\n",
       "0  hgt:176cm iyr:2013 hcl:#fffffd ecl:amb byr:200...      True       False\n",
       "1  hcl:#b5c3db ecl:grn hgt:155cm pid:#baec97 iyr:...      True       False\n",
       "2  pid:526669252 eyr:1972 hgt:152cm ecl:dne byr:1...      True       False\n",
       "3  eyr:2028 hcl:#c0946f hgt:73in byr:1926 ecl:#47...      True       False\n",
       "4  pid:472686027 ecl:oth iyr:2019 cid:277 byr:194...      True        True"
      ]
     },
     "execution_count": 28,
     "metadata": {},
     "output_type": "execute_result"
    }
   ],
   "source": [
    "df.head()"
   ]
  },
  {
   "cell_type": "code",
   "execution_count": 29,
   "metadata": {},
   "outputs": [
    {
     "data": {
      "text/plain": [
       "True     156\n",
       "False     74\n",
       "Name: id_check_2, dtype: int64"
      ]
     },
     "execution_count": 29,
     "metadata": {},
     "output_type": "execute_result"
    }
   ],
   "source": [
    "df.id_check_2.value_counts()"
   ]
  }
 ],
 "metadata": {
  "kernelspec": {
   "display_name": "Python 3",
   "language": "python",
   "name": "python3"
  },
  "language_info": {
   "codemirror_mode": {
    "name": "ipython",
    "version": 3
   },
   "file_extension": ".py",
   "mimetype": "text/x-python",
   "name": "python",
   "nbconvert_exporter": "python",
   "pygments_lexer": "ipython3",
   "version": "3.7.4"
  }
 },
 "nbformat": 4,
 "nbformat_minor": 4
}
