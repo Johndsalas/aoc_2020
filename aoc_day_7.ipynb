{
 "cells": [
  {
   "cell_type": "code",
   "execution_count": 1,
   "metadata": {},
   "outputs": [],
   "source": [
    "import pandas as pd\n",
    "import re"
   ]
  },
  {
   "cell_type": "code",
   "execution_count": 2,
   "metadata": {},
   "outputs": [],
   "source": [
    "# --- Day 7: Handy Haversacks ---\n",
    "# You land at the regional airport in time for your next flight. \n",
    "# In fact, it looks like you'll even have time to grab some food: all flights are currently delayed due to issues in luggage processing.\n",
    "\n",
    "# Due to recent aviation regulations, many rules (your puzzle input) are being enforced about bags and their contents; bags must be color-coded and must contain specific quantities of other color-coded bags. Apparently, nobody responsible for these regulations considered how long they would take to enforce!\n",
    "\n",
    "# For example, consider the following rules:\n",
    "\n",
    "# light red bags contain 1 bright white bag, 2 muted yellow bags.\n",
    "# dark orange bags contain 3 bright white bags, 4 muted yellow bags.\n",
    "# bright white bags contain 1 shiny gold bag.\n",
    "# muted yellow bags contain 2 shiny gold bags, 9 faded blue bags.\n",
    "# shiny gold bags contain 1 dark olive bag, 2 vibrant plum bags.\n",
    "# dark olive bags contain 3 faded blue bags, 4 dotted black bags.\n",
    "# vibrant plum bags contain 5 faded blue bags, 6 dotted black bags.\n",
    "# faded blue bags contain no other bags.\n",
    "# dotted black bags contain no other bags.\n",
    "# These rules specify the required contents for 9 bag types. In this example, every faded blue bag is empty, every vibrant plum bag contains 11 bags (5 faded blue and 6 dotted black), and so on.\n",
    "\n",
    "# You have a shiny gold bag. If you wanted to carry it in at least one other bag, how many different bag colors would be valid for the outermost bag? (In other words: how many colors can, eventually, contain at least one shiny gold bag?)\n",
    "\n",
    "# In the above rules, the following options would be available to you:\n",
    "\n",
    "# A bright white bag, which can hold your shiny gold bag directly.\n",
    "# A muted yellow bag, which can hold your shiny gold bag directly, plus some other bags.\n",
    "# A dark orange bag, which can hold bright white and muted yellow bags, either of which could then hold your shiny gold bag.\n",
    "# A light red bag, which can hold bright white and muted yellow bags, either of which could then hold your shiny gold bag.\n",
    "# So, in this example, the number of bag colors that can eventually contain at least one shiny gold bag is 4.\n",
    "\n",
    "# How many bag colors can eventually contain at least one shiny gold bag? (The list of rules is quite long; make sure you get all of it.)"
   ]
  },
  {
   "cell_type": "code",
   "execution_count": 3,
   "metadata": {},
   "outputs": [
    {
     "data": {
      "text/html": [
       "<div>\n",
       "<style scoped>\n",
       "    .dataframe tbody tr th:only-of-type {\n",
       "        vertical-align: middle;\n",
       "    }\n",
       "\n",
       "    .dataframe tbody tr th {\n",
       "        vertical-align: top;\n",
       "    }\n",
       "\n",
       "    .dataframe thead th {\n",
       "        text-align: right;\n",
       "    }\n",
       "</style>\n",
       "<table border=\"1\" class=\"dataframe\">\n",
       "  <thead>\n",
       "    <tr style=\"text-align: right;\">\n",
       "      <th></th>\n",
       "      <th>bags</th>\n",
       "    </tr>\n",
       "  </thead>\n",
       "  <tbody>\n",
       "    <tr>\n",
       "      <th>0</th>\n",
       "      <td>striped white bags contain 4 drab silver bags.</td>\n",
       "    </tr>\n",
       "    <tr>\n",
       "      <th>1</th>\n",
       "      <td>drab silver bags contain no other bags.</td>\n",
       "    </tr>\n",
       "    <tr>\n",
       "      <th>2</th>\n",
       "      <td>pale plum bags contain 1 dark black bag.</td>\n",
       "    </tr>\n",
       "    <tr>\n",
       "      <th>3</th>\n",
       "      <td>muted gold bags contain 1 wavy red bag, 3 mirr...</td>\n",
       "    </tr>\n",
       "    <tr>\n",
       "      <th>4</th>\n",
       "      <td>muted teal bags contain 2 pale beige bags, 5 c...</td>\n",
       "    </tr>\n",
       "  </tbody>\n",
       "</table>\n",
       "</div>"
      ],
      "text/plain": [
       "                                                bags\n",
       "0     striped white bags contain 4 drab silver bags.\n",
       "1            drab silver bags contain no other bags.\n",
       "2           pale plum bags contain 1 dark black bag.\n",
       "3  muted gold bags contain 1 wavy red bag, 3 mirr...\n",
       "4  muted teal bags contain 2 pale beige bags, 5 c..."
      ]
     },
     "execution_count": 3,
     "metadata": {},
     "output_type": "execute_result"
    }
   ],
   "source": [
    "df = pd.read_excel('bags.xlsx')\n",
    "df.head()"
   ]
  },
  {
   "cell_type": "code",
   "execution_count": 4,
   "metadata": {},
   "outputs": [
    {
     "name": "stdout",
     "output_type": "stream",
     "text": [
      "striped white   4 drab silver bags\n"
     ]
    }
   ],
   "source": [
    "value = 'striped white bags contain 4 drab silver bags.'\n",
    "\n",
    "value = re.findall(r'(.*)bags contain(.*)\\.',value)\n",
    "\n",
    "bags = value[0][0]\n",
    "contents = value[0][1]\n",
    "\n",
    "print(bags,contents)"
   ]
  },
  {
   "cell_type": "code",
   "execution_count": 5,
   "metadata": {},
   "outputs": [],
   "source": [
    "def get_bag_contents(value):\n",
    "    \n",
    "    value = re.findall(r'(.*)bags contain(.*)\\.',value)\n",
    "\n",
    "    return value[0][1]"
   ]
  },
  {
   "cell_type": "code",
   "execution_count": 6,
   "metadata": {},
   "outputs": [],
   "source": [
    "def get_bags(value):\n",
    "    \n",
    "    value = re.findall(r'(.*)bags contain(.*)\\.',value)\n",
    "\n",
    "    return value[0][0].strip()"
   ]
  },
  {
   "cell_type": "code",
   "execution_count": 7,
   "metadata": {},
   "outputs": [],
   "source": [
    "df['contents'] = df.bags.apply(get_bag_contents)\n",
    "df['bags'] = df.bags.apply(get_bags)"
   ]
  },
  {
   "cell_type": "code",
   "execution_count": 8,
   "metadata": {
    "scrolled": true
   },
   "outputs": [
    {
     "data": {
      "text/html": [
       "<div>\n",
       "<style scoped>\n",
       "    .dataframe tbody tr th:only-of-type {\n",
       "        vertical-align: middle;\n",
       "    }\n",
       "\n",
       "    .dataframe tbody tr th {\n",
       "        vertical-align: top;\n",
       "    }\n",
       "\n",
       "    .dataframe thead th {\n",
       "        text-align: right;\n",
       "    }\n",
       "</style>\n",
       "<table border=\"1\" class=\"dataframe\">\n",
       "  <thead>\n",
       "    <tr style=\"text-align: right;\">\n",
       "      <th></th>\n",
       "      <th>bags</th>\n",
       "      <th>contents</th>\n",
       "    </tr>\n",
       "  </thead>\n",
       "  <tbody>\n",
       "    <tr>\n",
       "      <th>0</th>\n",
       "      <td>striped white</td>\n",
       "      <td>4 drab silver bags</td>\n",
       "    </tr>\n",
       "    <tr>\n",
       "      <th>1</th>\n",
       "      <td>drab silver</td>\n",
       "      <td>no other bags</td>\n",
       "    </tr>\n",
       "    <tr>\n",
       "      <th>2</th>\n",
       "      <td>pale plum</td>\n",
       "      <td>1 dark black bag</td>\n",
       "    </tr>\n",
       "    <tr>\n",
       "      <th>3</th>\n",
       "      <td>muted gold</td>\n",
       "      <td>1 wavy red bag, 3 mirrored violet bags, 5 bri...</td>\n",
       "    </tr>\n",
       "    <tr>\n",
       "      <th>4</th>\n",
       "      <td>muted teal</td>\n",
       "      <td>2 pale beige bags, 5 clear beige bags, 2 dott...</td>\n",
       "    </tr>\n",
       "  </tbody>\n",
       "</table>\n",
       "</div>"
      ],
      "text/plain": [
       "            bags                                           contents\n",
       "0  striped white                                 4 drab silver bags\n",
       "1    drab silver                                      no other bags\n",
       "2      pale plum                                   1 dark black bag\n",
       "3     muted gold   1 wavy red bag, 3 mirrored violet bags, 5 bri...\n",
       "4     muted teal   2 pale beige bags, 5 clear beige bags, 2 dott..."
      ]
     },
     "execution_count": 8,
     "metadata": {},
     "output_type": "execute_result"
    }
   ],
   "source": [
    "df.head()"
   ]
  },
  {
   "cell_type": "code",
   "execution_count": 9,
   "metadata": {},
   "outputs": [
    {
     "data": {
      "text/plain": [
       "594"
      ]
     },
     "execution_count": 9,
     "metadata": {},
     "output_type": "execute_result"
    }
   ],
   "source": [
    "len(df.bags)"
   ]
  },
  {
   "cell_type": "code",
   "execution_count": 10,
   "metadata": {},
   "outputs": [
    {
     "name": "stdout",
     "output_type": "stream",
     "text": [
      "103\n"
     ]
    }
   ],
   "source": [
    "total_bags = []\n",
    "small_bags = ['shiny gold']\n",
    "big_bags = []\n",
    "\n",
    "getting_bags = True\n",
    "\n",
    "while getting_bags:\n",
    "\n",
    "    # get list of bags that contain at least one bag in small_bags (bigger_bags)\n",
    "    for bag in small_bags:\n",
    "\n",
    "        # add column 'contains {bag}' to dataframe \n",
    "        df[f'contains {bag}'] = df.contents.str.contains(bag)\n",
    "\n",
    "        # create a dataframe showing only rows with a value of true for 'contains {bag}'\n",
    "        df_temp = df[df[f'contains {bag}'] == True]\n",
    "\n",
    "        # create a list of bags using the bags column of the dataframe\n",
    "        li = list(df_temp.bags)\n",
    "\n",
    "        # add list of bags to bigger_bags\n",
    "        big_bags.extend(li)\n",
    "\n",
    "    # if big_bags id empty break loop\n",
    "    if len(big_bags) == 0:\n",
    "\n",
    "        break\n",
    "\n",
    "    # add bags list to master_list\n",
    "    total_bags.extend(big_bags)\n",
    "\n",
    "    # set bags list to equal bigger_bags list\n",
    "    small_bags = big_bags\n",
    "\n",
    "    # set bigger_bags to empty\n",
    "    big_bags = []\n",
    "\n",
    "# print number of items in total bags\n",
    "print(len(set(total_bags)))"
   ]
  },
  {
   "cell_type": "code",
   "execution_count": 11,
   "metadata": {},
   "outputs": [],
   "source": [
    "# --- Part Two ---\n",
    "# It's getting pretty expensive to fly these days - not because of ticket prices, but because of the ridiculous number of bags you need to buy!\n",
    "\n",
    "# Consider again your shiny gold bag and the rules from the above example:\n",
    "\n",
    "# faded blue bags contain 0 other bags.\n",
    "# dotted black bags contain 0 other bags.\n",
    "# vibrant plum bags contain 11 other bags: 5 faded blue bags and 6 dotted black bags.\n",
    "# dark olive bags contain 7 other bags: 3 faded blue bags and 4 dotted black bags.\n",
    "# So, a single shiny gold bag must contain 1 dark olive bag (and the 7 bags within it) plus 2 vibrant plum bags (and the 11 bags within each of those): 1 + 1*7 + 2 + 2*11 = 32 bags!\n",
    "\n",
    "# Of course, the actual rules have a small chance of going several levels deeper than this example; be sure to count all of the bags, even if the nesting becomes topologically impractical!\n",
    "\n",
    "# Here's another example:\n",
    "\n",
    "# shiny gold bags contain 2 dark red bags.\n",
    "# dark red bags contain 2 dark orange bags.\n",
    "# dark orange bags contain 2 dark yellow bags.\n",
    "# dark yellow bags contain 2 dark green bags.\n",
    "# dark green bags contain 2 dark blue bags.\n",
    "# dark blue bags contain 2 dark violet bags.\n",
    "# dark violet bags contain no other bags.\n",
    "# In this example, a single shiny gold bag must contain 126 other bags.\n",
    "\n",
    "# How many individual bags are required inside your single shiny gold bag?"
   ]
  },
  {
   "cell_type": "code",
   "execution_count": 12,
   "metadata": {},
   "outputs": [
    {
     "data": {
      "text/html": [
       "<div>\n",
       "<style scoped>\n",
       "    .dataframe tbody tr th:only-of-type {\n",
       "        vertical-align: middle;\n",
       "    }\n",
       "\n",
       "    .dataframe tbody tr th {\n",
       "        vertical-align: top;\n",
       "    }\n",
       "\n",
       "    .dataframe thead th {\n",
       "        text-align: right;\n",
       "    }\n",
       "</style>\n",
       "<table border=\"1\" class=\"dataframe\">\n",
       "  <thead>\n",
       "    <tr style=\"text-align: right;\">\n",
       "      <th></th>\n",
       "      <th>bags</th>\n",
       "      <th>contents</th>\n",
       "    </tr>\n",
       "  </thead>\n",
       "  <tbody>\n",
       "    <tr>\n",
       "      <th>0</th>\n",
       "      <td>striped white</td>\n",
       "      <td>4 drab silver bags</td>\n",
       "    </tr>\n",
       "    <tr>\n",
       "      <th>1</th>\n",
       "      <td>drab silver</td>\n",
       "      <td>no other bags</td>\n",
       "    </tr>\n",
       "    <tr>\n",
       "      <th>2</th>\n",
       "      <td>pale plum</td>\n",
       "      <td>1 dark black bag</td>\n",
       "    </tr>\n",
       "    <tr>\n",
       "      <th>3</th>\n",
       "      <td>muted gold</td>\n",
       "      <td>1 wavy red bag, 3 mirrored violet bags, 5 bri...</td>\n",
       "    </tr>\n",
       "    <tr>\n",
       "      <th>4</th>\n",
       "      <td>muted teal</td>\n",
       "      <td>2 pale beige bags, 5 clear beige bags, 2 dott...</td>\n",
       "    </tr>\n",
       "  </tbody>\n",
       "</table>\n",
       "</div>"
      ],
      "text/plain": [
       "            bags                                           contents\n",
       "0  striped white                                 4 drab silver bags\n",
       "1    drab silver                                      no other bags\n",
       "2      pale plum                                   1 dark black bag\n",
       "3     muted gold   1 wavy red bag, 3 mirrored violet bags, 5 bri...\n",
       "4     muted teal   2 pale beige bags, 5 clear beige bags, 2 dott..."
      ]
     },
     "execution_count": 12,
     "metadata": {},
     "output_type": "execute_result"
    }
   ],
   "source": [
    "df = df[['bags','contents']]\n",
    "df.head()"
   ]
  },
  {
   "cell_type": "code",
   "execution_count": 13,
   "metadata": {},
   "outputs": [
    {
     "data": {
      "text/html": [
       "<div>\n",
       "<style scoped>\n",
       "    .dataframe tbody tr th:only-of-type {\n",
       "        vertical-align: middle;\n",
       "    }\n",
       "\n",
       "    .dataframe tbody tr th {\n",
       "        vertical-align: top;\n",
       "    }\n",
       "\n",
       "    .dataframe thead th {\n",
       "        text-align: right;\n",
       "    }\n",
       "</style>\n",
       "<table border=\"1\" class=\"dataframe\">\n",
       "  <thead>\n",
       "    <tr style=\"text-align: right;\">\n",
       "      <th></th>\n",
       "      <th>bags</th>\n",
       "      <th>contents</th>\n",
       "    </tr>\n",
       "  </thead>\n",
       "  <tbody>\n",
       "    <tr>\n",
       "      <th>0</th>\n",
       "      <td>striped white</td>\n",
       "      <td>4 drab silver bags</td>\n",
       "    </tr>\n",
       "  </tbody>\n",
       "</table>\n",
       "</div>"
      ],
      "text/plain": [
       "            bags             contents\n",
       "0  striped white   4 drab silver bags"
      ]
     },
     "execution_count": 13,
     "metadata": {},
     "output_type": "execute_result"
    }
   ],
   "source": [
    "df.head(1)"
   ]
  },
  {
   "cell_type": "code",
   "execution_count": 14,
   "metadata": {},
   "outputs": [],
   "source": [
    "def multiply_text(value):\n",
    "    \n",
    "    s =  ''\n",
    "    value_list = value.split(',')\n",
    "\n",
    "    for v in value_list:\n",
    "\n",
    "        mod = re.findall(r'(\\d)\\s(\\w*)\\s(\\w*)\\sbag',v)\n",
    "        \n",
    "        if len(mod) > 0:\n",
    "            \n",
    "            mod = mod[0]\n",
    "\n",
    "            number = int(mod[0])\n",
    "\n",
    "            disc = mod[1]\n",
    "\n",
    "            bag = mod[2]\n",
    "\n",
    "            phrase = (disc + bag + ' ') * number\n",
    "\n",
    "            s += phrase\n",
    "\n",
    "    return s"
   ]
  },
  {
   "cell_type": "code",
   "execution_count": 15,
   "metadata": {},
   "outputs": [
    {
     "data": {
      "text/html": [
       "<div>\n",
       "<style scoped>\n",
       "    .dataframe tbody tr th:only-of-type {\n",
       "        vertical-align: middle;\n",
       "    }\n",
       "\n",
       "    .dataframe tbody tr th {\n",
       "        vertical-align: top;\n",
       "    }\n",
       "\n",
       "    .dataframe thead th {\n",
       "        text-align: right;\n",
       "    }\n",
       "</style>\n",
       "<table border=\"1\" class=\"dataframe\">\n",
       "  <thead>\n",
       "    <tr style=\"text-align: right;\">\n",
       "      <th></th>\n",
       "      <th>bags</th>\n",
       "      <th>contents</th>\n",
       "    </tr>\n",
       "  </thead>\n",
       "  <tbody>\n",
       "    <tr>\n",
       "      <th>0</th>\n",
       "      <td>stripedwhite</td>\n",
       "      <td>drabsilver drabsilver drabsilver drabsilver</td>\n",
       "    </tr>\n",
       "    <tr>\n",
       "      <th>1</th>\n",
       "      <td>drabsilver</td>\n",
       "      <td></td>\n",
       "    </tr>\n",
       "    <tr>\n",
       "      <th>2</th>\n",
       "      <td>paleplum</td>\n",
       "      <td>darkblack</td>\n",
       "    </tr>\n",
       "    <tr>\n",
       "      <th>3</th>\n",
       "      <td>mutedgold</td>\n",
       "      <td>wavyred mirroredviolet mirroredviolet mirrored...</td>\n",
       "    </tr>\n",
       "    <tr>\n",
       "      <th>4</th>\n",
       "      <td>mutedteal</td>\n",
       "      <td>palebeige palebeige clearbeige clearbeige clea...</td>\n",
       "    </tr>\n",
       "    <tr>\n",
       "      <th>...</th>\n",
       "      <td>...</td>\n",
       "      <td>...</td>\n",
       "    </tr>\n",
       "    <tr>\n",
       "      <th>589</th>\n",
       "      <td>vibrantorange</td>\n",
       "      <td></td>\n",
       "    </tr>\n",
       "    <tr>\n",
       "      <th>590</th>\n",
       "      <td>stripedsilver</td>\n",
       "      <td>clearorange clearorange clearorange clearorang...</td>\n",
       "    </tr>\n",
       "    <tr>\n",
       "      <th>591</th>\n",
       "      <td>clearcyan</td>\n",
       "      <td>mutedgray mutedgray mutedgray mutedgray mutedg...</td>\n",
       "    </tr>\n",
       "    <tr>\n",
       "      <th>592</th>\n",
       "      <td>lightblack</td>\n",
       "      <td>stripedyellow</td>\n",
       "    </tr>\n",
       "    <tr>\n",
       "      <th>593</th>\n",
       "      <td>mutedwhite</td>\n",
       "      <td>mutedtomato mutedtomato mutedtomato lightblack...</td>\n",
       "    </tr>\n",
       "  </tbody>\n",
       "</table>\n",
       "<p>594 rows × 2 columns</p>\n",
       "</div>"
      ],
      "text/plain": [
       "              bags                                           contents\n",
       "0     stripedwhite       drabsilver drabsilver drabsilver drabsilver \n",
       "1       drabsilver                                                   \n",
       "2         paleplum                                         darkblack \n",
       "3        mutedgold  wavyred mirroredviolet mirroredviolet mirrored...\n",
       "4        mutedteal  palebeige palebeige clearbeige clearbeige clea...\n",
       "..             ...                                                ...\n",
       "589  vibrantorange                                                   \n",
       "590  stripedsilver  clearorange clearorange clearorange clearorang...\n",
       "591      clearcyan  mutedgray mutedgray mutedgray mutedgray mutedg...\n",
       "592     lightblack                                     stripedyellow \n",
       "593     mutedwhite  mutedtomato mutedtomato mutedtomato lightblack...\n",
       "\n",
       "[594 rows x 2 columns]"
      ]
     },
     "execution_count": 15,
     "metadata": {},
     "output_type": "execute_result"
    }
   ],
   "source": [
    "df = df[['bags','contents']]\n",
    "\n",
    "df['contents'] = df.contents.apply(multiply_text)\n",
    "df['bags'] = df.bags.apply(lambda value : re.sub('\\s','', value) )\n",
    "\n",
    "df"
   ]
  },
  {
   "cell_type": "code",
   "execution_count": 16,
   "metadata": {},
   "outputs": [
    {
     "name": "stdout",
     "output_type": "stream",
     "text": [
      "['vibrantblue', 'vibrantblue', 'vibrantblue', 'plaidblue', 'plaidblue', 'plaidblue', 'plaidblue', 'plaidblue', 'darkred', 'darkred', 'dullgreen', 'wavyturquoise', 'dimsalmon', 'dimsalmon', 'dimsalmon', 'dimsalmon', 'wavyturquoise', 'dimsalmon', 'dimsalmon', 'dimsalmon', 'dimsalmon', 'wavyturquoise', 'dimsalmon', 'dimsalmon', 'dimsalmon', 'dimsalmon', 'dulllavender', 'dulllavender', 'wavymagenta', 'wavymagenta', 'wavymagenta', 'wavymagenta', 'wavymagenta', 'lightindigo', 'dulllavender', 'dulllavender', 'wavymagenta', 'wavymagenta', 'wavymagenta', 'wavymagenta', 'wavymagenta', 'lightindigo', 'dulllavender', 'dulllavender', 'wavymagenta', 'wavymagenta', 'wavymagenta', 'wavymagenta', 'wavymagenta', 'lightindigo', 'dulllavender', 'dulllavender', 'wavymagenta', 'wavymagenta', 'wavymagenta', 'wavymagenta', 'wavymagenta', 'lightindigo', 'dulllavender', 'dulllavender', 'wavymagenta', 'wavymagenta', 'wavymagenta', 'wavymagenta', 'wavymagenta', 'lightindigo', 'wavybronze', 'wavybronze', 'wavybronze', 'wavybronze', 'wavyturquoise', 'wavyturquoise', 'wavyturquoise', 'wavyturquoise', 'wavyturquoise', 'wavybronze', 'wavybronze', 'wavybronze', 'wavybronze', 'wavyturquoise', 'wavyturquoise', 'wavyturquoise', 'wavyturquoise', 'wavyturquoise', 'dottedbeige', 'dottedbeige', 'dottedbeige', 'dottedbeige', 'dottedbeige', 'drabsilver', 'drabsilver', 'drabsilver', 'drabsilver', 'poshmagenta', 'poshmagenta', 'poshmagenta', 'poshmagenta', 'mutedorange', 'dulllavender', 'dottedolive', 'lightindigo', 'lightindigo', 'lightindigo', 'lightindigo', 'dottedolive', 'lightindigo', 'lightindigo', 'lightindigo', 'lightindigo', 'dottedolive', 'lightindigo', 'lightindigo', 'lightindigo', 'lightindigo', 'dottedolive', 'lightindigo', 'lightindigo', 'lightindigo', 'lightindigo', 'dulllavender', 'dottedolive', 'lightindigo', 'lightindigo', 'lightindigo', 'lightindigo', 'dottedolive', 'lightindigo', 'lightindigo', 'lightindigo', 'lightindigo', 'dottedolive', 'lightindigo', 'lightindigo', 'lightindigo', 'lightindigo', 'dottedolive', 'lightindigo', 'lightindigo', 'lightindigo', 'lightindigo', 'dulllavender', 'dottedolive', 'lightindigo', 'lightindigo', 'lightindigo', 'lightindigo', 'dottedolive', 'lightindigo', 'lightindigo', 'lightindigo', 'lightindigo', 'dottedolive', 'lightindigo', 'lightindigo', 'lightindigo', 'lightindigo', 'dottedolive', 'lightindigo', 'lightindigo', 'lightindigo', 'lightindigo', 'dimbronze', 'dimcrimson', 'dimcrimson', 'dimcrimson', 'dimcrimson', 'dimcrimson', 'dottedolive', 'dimbronze', 'dimcrimson', 'dimcrimson', 'dimcrimson', 'dimcrimson', 'dimcrimson', 'dottedolive', 'dimbronze', 'dimcrimson', 'dimcrimson', 'dimcrimson', 'dimcrimson', 'dimcrimson', 'dottedolive', 'dimbronze', 'dimcrimson', 'dimcrimson', 'dimcrimson', 'dimcrimson', 'dimcrimson', 'dottedolive', 'dimbronze', 'dimcrimson', 'dimcrimson', 'dimcrimson', 'dimcrimson', 'dimcrimson', 'dottedolive', 'dimbronze', 'dimcrimson', 'dimcrimson', 'dimcrimson', 'dimcrimson', 'dimcrimson', 'dottedolive', 'dimbronze', 'dimcrimson', 'dimcrimson', 'dimcrimson', 'dimcrimson', 'dimcrimson', 'dottedolive', 'dimbronze', 'dimcrimson', 'dimcrimson', 'dimcrimson', 'dimcrimson', 'dimcrimson', 'dottedolive', 'dimbronze', 'dimcrimson', 'dimcrimson', 'dimcrimson', 'dimcrimson', 'dimcrimson', 'dottedolive', 'dimbronze', 'dimcrimson', 'dimcrimson', 'dimcrimson', 'dimcrimson', 'dimcrimson', 'dottedolive', 'wavyturquoise', 'wavyturquoise', 'wavyturquoise', 'wavyturquoise', 'dimbronze', 'dimbronze', 'dimbronze', 'dimbronze', 'shinybeige', 'shinybeige', 'shinybeige', 'dulllavender', 'dulllavender', 'wavyturquoise', 'wavyturquoise', 'wavyturquoise', 'wavyturquoise', 'dimbronze', 'dimbronze', 'dimbronze', 'dimbronze', 'shinybeige', 'shinybeige', 'shinybeige', 'dulllavender', 'dulllavender', 'wavyturquoise', 'wavyturquoise', 'wavyturquoise', 'wavyturquoise', 'dimbronze', 'dimbronze', 'dimbronze', 'dimbronze', 'shinybeige', 'shinybeige', 'shinybeige', 'dulllavender', 'dulllavender', 'wavyturquoise', 'wavyturquoise', 'wavyturquoise', 'wavyturquoise', 'dimbronze', 'dimbronze', 'dimbronze', 'dimbronze', 'shinybeige', 'shinybeige', 'shinybeige', 'dulllavender', 'dulllavender', 'dulllavender', 'dulllavender', 'dulllavender', 'dulllavender', 'dulllavender', 'wavyturquoise', 'wavyturquoise', 'wavyturquoise', 'wavyturquoise', 'dimbronze', 'dimbronze', 'dimbronze', 'dimbronze', 'shinybeige', 'shinybeige', 'shinybeige', 'dulllavender', 'dulllavender', 'wavyturquoise', 'wavyturquoise', 'wavyturquoise', 'wavyturquoise', 'dimbronze', 'dimbronze', 'dimbronze', 'dimbronze', 'shinybeige', 'shinybeige', 'shinybeige', 'dulllavender', 'dulllavender', 'wavyturquoise', 'wavyturquoise', 'wavyturquoise', 'wavyturquoise', 'dimbronze', 'dimbronze', 'dimbronze', 'dimbronze', 'shinybeige', 'shinybeige', 'shinybeige', 'dulllavender', 'dulllavender', 'wavyturquoise', 'wavyturquoise', 'wavyturquoise', 'wavyturquoise', 'dimbronze', 'dimbronze', 'dimbronze', 'dimbronze', 'shinybeige', 'shinybeige', 'shinybeige', 'dulllavender', 'dulllavender', 'dulllavender', 'dulllavender', 'dulllavender', 'dulllavender', 'dulllavender', 'dottedtomato', 'dottedtomato', 'dottedtomato', 'dottedtomato', 'dottedtomato', 'stripedindigo', 'dottedtomato', 'dottedtomato', 'dottedtomato', 'dottedtomato', 'dottedtomato', 'stripedindigo', 'dottedtomato', 'dottedtomato', 'dottedtomato', 'dottedtomato', 'dottedtomato', 'stripedindigo', 'dottedtomato', 'dottedtomato', 'dottedtomato', 'dottedtomato', 'dottedtomato', 'stripedindigo', 'dottedtomato', 'dottedtomato', 'dottedtomato', 'dottedtomato', 'dottedtomato', 'stripedindigo', 'brightviolet', 'dottedbeige', 'dottedbeige', 'brightgray', 'brightgray', 'brightviolet', 'dottedbeige', 'dottedbeige', 'brightgray', 'brightgray', 'brightviolet', 'dottedbeige', 'dottedbeige', 'brightgray', 'brightgray', 'brightviolet', 'dottedbeige', 'dottedbeige', 'brightgray', 'brightgray', 'dottedtomato', 'dottedtomato', 'dottedtomato', 'vibranttomato', 'vibranttomato', 'vibranttomato', 'vibranttomato', 'dulllavender', 'dulllavender', 'dulllavender', 'dulllavender', 'dulllavender', 'dimbronze', 'dimcrimson', 'dimcrimson', 'dimcrimson', 'dimcrimson', 'dimcrimson', 'dottedolive', 'dimbronze', 'dimcrimson', 'dimcrimson', 'dimcrimson', 'dimcrimson', 'dimcrimson', 'dottedolive', 'dimbronze', 'dimcrimson', 'dimcrimson', 'dimcrimson', 'dimcrimson', 'dimcrimson', 'dottedolive', 'dulllavender', 'dulllavender', 'dulllavender', 'dulllavender', 'mirroredgold', 'mirroredgold', 'mirroredgold', 'mirroredgold', 'mirroredgold', 'mirroredgold', 'mirroredgold', 'mirroredgold', 'mirroredgold', 'dimbronze', 'dimcrimson', 'dimcrimson', 'dimcrimson', 'dimcrimson', 'dimcrimson', 'dottedolive', 'dimbronze', 'dimcrimson', 'dimcrimson', 'dimcrimson', 'dimcrimson', 'dimcrimson', 'dottedolive', 'dulllavender', 'dulllavender', 'dulllavender', 'dulllavender', 'mirroredgold', 'mirroredgold', 'mirroredgold', 'mirroredgold', 'mirroredgold', 'mirroredgold', 'mirroredgold', 'mirroredgold', 'mirroredgold', 'dimbronze', 'dimcrimson', 'dimcrimson', 'dimcrimson', 'dimcrimson', 'dimcrimson', 'dottedolive', 'dimbronze', 'dimcrimson', 'dimcrimson', 'dimcrimson', 'dimcrimson', 'dimcrimson', 'dottedolive', 'dulllavender', 'dulllavender', 'dulllavender', 'dulllavender', 'mirroredgold', 'mirroredgold', 'mirroredgold', 'mirroredgold', 'mirroredgold', 'mirroredgold', 'mirroredgold', 'mirroredgold', 'mirroredgold', 'dimbronze', 'dimcrimson', 'dimcrimson', 'dimcrimson', 'dimcrimson', 'dimcrimson', 'dottedolive', 'dimbronze', 'dimcrimson', 'dimcrimson', 'dimcrimson', 'dimcrimson', 'dimcrimson', 'dottedolive', 'dulllavender', 'dulllavender', 'dulllavender', 'dulllavender', 'mirroredgold', 'mirroredgold', 'mirroredgold', 'mirroredgold', 'mirroredgold', 'mirroredgold', 'mirroredgold', 'mirroredgold', 'mirroredgold', 'dimbronze', 'dimcrimson', 'dimcrimson', 'dimcrimson', 'dimcrimson', 'dimcrimson', 'dottedolive', 'dimbronze', 'dimcrimson', 'dimcrimson', 'dimcrimson', 'dimcrimson', 'dimcrimson', 'dottedolive', 'dimbronze', 'dimcrimson', 'dimcrimson', 'dimcrimson', 'dimcrimson', 'dimcrimson', 'dottedolive', 'dimbronze', 'dimcrimson', 'dimcrimson', 'dimcrimson', 'dimcrimson', 'dimcrimson', 'dottedolive', 'dimbronze', 'dimcrimson', 'dimcrimson', 'dimcrimson', 'dimcrimson', 'dimcrimson', 'dottedolive', 'dimbronze', 'dimcrimson', 'dimcrimson', 'dimcrimson', 'dimcrimson', 'dimcrimson', 'dottedolive', 'dimbronze', 'dimcrimson', 'dimcrimson', 'dimcrimson', 'dimcrimson', 'dimcrimson', 'dottedolive', 'dulllavender', 'dulllavender', 'dulllavender', 'dulllavender', 'mirroredgold', 'mirroredgold', 'mirroredgold', 'mirroredgold', 'mirroredgold', 'mirroredgold', 'mirroredgold', 'mirroredgold', 'mirroredgold', 'dimbronze', 'dimcrimson', 'dimcrimson', 'dimcrimson', 'dimcrimson', 'dimcrimson', 'dottedolive', 'dimbronze', 'dimcrimson', 'dimcrimson', 'dimcrimson', 'dimcrimson', 'dimcrimson', 'dottedolive', 'dulllavender', 'dulllavender', 'dulllavender', 'dulllavender', 'mirroredgold', 'mirroredgold', 'mirroredgold', 'mirroredgold', 'mirroredgold', 'mirroredgold', 'mirroredgold', 'mirroredgold', 'mirroredgold', 'dimbronze', 'dimcrimson', 'dimcrimson', 'dimcrimson', 'dimcrimson', 'dimcrimson', 'dottedolive', 'dimbronze', 'dimcrimson', 'dimcrimson', 'dimcrimson', 'dimcrimson', 'dimcrimson', 'dottedolive', 'dulllavender', 'dulllavender', 'dulllavender', 'dulllavender', 'mirroredgold', 'mirroredgold', 'mirroredgold', 'mirroredgold', 'mirroredgold', 'mirroredgold', 'mirroredgold', 'mirroredgold', 'mirroredgold', 'dimbronze', 'dimcrimson', 'dimcrimson', 'dimcrimson', 'dimcrimson', 'dimcrimson', 'dottedolive', 'dimbronze', 'dimcrimson', 'dimcrimson', 'dimcrimson', 'dimcrimson', 'dimcrimson', 'dottedolive', 'dulllavender', 'dulllavender', 'dulllavender', 'dulllavender', 'mirroredgold', 'mirroredgold', 'mirroredgold', 'mirroredgold', 'mirroredgold', 'mirroredgold', 'mirroredgold', 'mirroredgold', 'mirroredgold', 'dimbronze', 'dimcrimson', 'dimcrimson', 'dimcrimson', 'dimcrimson', 'dimcrimson', 'dottedolive', 'dimbronze', 'dimcrimson', 'dimcrimson', 'dimcrimson', 'dimcrimson', 'dimcrimson', 'dottedolive', 'dimbronze', 'dimcrimson', 'dimcrimson', 'dimcrimson', 'dimcrimson', 'dimcrimson', 'dottedolive', 'dimbronze', 'dimcrimson', 'dimcrimson', 'dimcrimson', 'dimcrimson', 'dimcrimson', 'dottedolive', 'dimbronze', 'dimcrimson', 'dimcrimson', 'dimcrimson', 'dimcrimson', 'dimcrimson', 'dottedolive', 'dimbronze', 'dimcrimson', 'dimcrimson', 'dimcrimson', 'dimcrimson', 'dimcrimson', 'dottedolive', 'dimbronze', 'dimcrimson', 'dimcrimson', 'dimcrimson', 'dimcrimson', 'dimcrimson', 'dottedolive', 'shinybeige', 'shinybeige', 'shinybeige', 'wavymagenta', 'lightindigo', 'lightindigo', 'lightindigo', 'lightindigo', 'lightindigo', 'dottedtomato', 'dottedtomato', 'dottedtomato', 'dottedtomato', 'dottedtomato', 'stripedindigo', 'dottedtomato', 'dottedtomato', 'dottedtomato', 'dottedtomato', 'dottedtomato', 'stripedindigo', 'shinybeige', 'shinybeige', 'shinybeige', 'wavymagenta', 'lightindigo', 'lightindigo', 'lightindigo', 'lightindigo', 'lightindigo', 'dottedtomato', 'dottedtomato', 'dottedtomato', 'dottedtomato', 'dottedtomato', 'stripedindigo', 'dottedtomato', 'dottedtomato', 'dottedtomato', 'dottedtomato', 'dottedtomato', 'stripedindigo', 'shinybeige', 'shinybeige', 'shinybeige', 'wavymagenta', 'lightindigo', 'lightindigo', 'lightindigo', 'lightindigo', 'lightindigo', 'dottedtomato', 'dottedtomato', 'dottedtomato', 'dottedtomato', 'dottedtomato', 'stripedindigo', 'dottedtomato', 'dottedtomato', 'dottedtomato', 'dottedtomato', 'dottedtomato', 'stripedindigo', 'shinybeige', 'shinybeige', 'shinybeige', 'wavymagenta', 'lightindigo', 'lightindigo', 'lightindigo', 'lightindigo', 'lightindigo', 'dottedtomato', 'dottedtomato', 'dottedtomato', 'dottedtomato', 'dottedtomato', 'stripedindigo', 'dottedtomato', 'dottedtomato', 'dottedtomato', 'dottedtomato', 'dottedtomato', 'stripedindigo', 'dulllavender', 'dulllavender', 'dulllavender', 'dulllavender', 'dulllavender', 'dulllavender', 'dulllavender', 'dulllavender', 'dulllavender', 'dulllavender', 'dulllavender', 'dulllavender', 'dulllavender', 'dulllavender', 'dulllavender', 'dulllavender', 'dulllavender', 'dulllavender', 'dulllavender', 'dulllavender', 'dimbronze', 'dimcrimson', 'dimcrimson', 'dimcrimson', 'dimcrimson', 'dimcrimson', 'dottedolive', 'dimbronze', 'dimcrimson', 'dimcrimson', 'dimcrimson', 'dimcrimson', 'dimcrimson', 'dottedolive', 'dimbronze', 'dimcrimson', 'dimcrimson', 'dimcrimson', 'dimcrimson', 'dimcrimson', 'dottedolive', 'dimbronze', 'dimcrimson', 'dimcrimson', 'dimcrimson', 'dimcrimson', 'dimcrimson', 'dottedolive', 'dimbronze', 'dimcrimson', 'dimcrimson', 'dimcrimson', 'dimcrimson', 'dimcrimson', 'dottedolive', 'dimbronze', 'dimcrimson', 'dimcrimson', 'dimcrimson', 'dimcrimson', 'dimcrimson', 'dottedolive', 'dimbronze', 'dimcrimson', 'dimcrimson', 'dimcrimson', 'dimcrimson', 'dimcrimson', 'dottedolive', 'dimbronze', 'dimcrimson', 'dimcrimson', 'dimcrimson', 'dimcrimson', 'dimcrimson', 'dottedolive', 'dimbronze', 'dimcrimson', 'dimcrimson', 'dimcrimson', 'dimcrimson', 'dimcrimson', 'dottedolive', 'wavymagenta', 'wavymagenta', 'wavymagenta', 'wavymagenta', 'wavymagenta', 'wavymagenta', 'wavymagenta', 'wavymagenta', 'wavymagenta', 'wavymagenta', 'wavymagenta', 'wavymagenta', 'wavymagenta', 'wavymagenta', 'wavymagenta', 'wavymagenta', 'wavymagenta', 'wavymagenta', 'dimbronze', 'dimcrimson', 'dimcrimson', 'dimcrimson', 'dimcrimson', 'dimcrimson', 'dottedolive', 'dimbronze', 'dimcrimson', 'dimcrimson', 'dimcrimson', 'dimcrimson', 'dimcrimson', 'dottedolive', 'dimbronze', 'dimcrimson', 'dimcrimson', 'dimcrimson', 'dimcrimson', 'dimcrimson', 'dottedolive', 'dimbronze', 'dimcrimson', 'dimcrimson', 'dimcrimson', 'dimcrimson', 'dimcrimson', 'dottedolive', 'wavymagenta', 'wavymagenta', 'wavymagenta', 'wavymagenta', 'wavymagenta', 'wavymagenta', 'wavymagenta', 'wavymagenta', 'wavymagenta', 'wavymagenta', 'wavymagenta', 'wavymagenta', 'wavymagenta', 'wavymagenta', 'wavymagenta', 'wavymagenta', 'wavymagenta', 'wavymagenta', 'dimbronze', 'dimcrimson', 'dimcrimson', 'dimcrimson', 'dimcrimson', 'dimcrimson', 'dottedolive', 'dimbronze', 'dimcrimson', 'dimcrimson', 'dimcrimson', 'dimcrimson', 'dimcrimson', 'dottedolive', 'dimbronze', 'dimcrimson', 'dimcrimson', 'dimcrimson', 'dimcrimson', 'dimcrimson', 'dottedolive', 'dimbronze', 'dimcrimson', 'dimcrimson', 'dimcrimson', 'dimcrimson', 'dimcrimson', 'dottedolive', 'wavymagenta', 'wavymagenta', 'wavymagenta', 'wavymagenta', 'wavymagenta', 'wavymagenta', 'wavymagenta', 'wavymagenta', 'wavymagenta', 'wavymagenta', 'wavymagenta', 'wavymagenta', 'wavymagenta', 'wavymagenta', 'wavymagenta', 'wavymagenta', 'wavymagenta', 'wavymagenta', 'dimbronze', 'dimcrimson', 'dimcrimson', 'dimcrimson', 'dimcrimson', 'dimcrimson', 'dottedolive', 'dimbronze', 'dimcrimson', 'dimcrimson', 'dimcrimson', 'dimcrimson', 'dimcrimson', 'dottedolive', 'dimbronze', 'dimcrimson', 'dimcrimson', 'dimcrimson', 'dimcrimson', 'dimcrimson', 'dottedolive', 'dimbronze', 'dimcrimson', 'dimcrimson', 'dimcrimson', 'dimcrimson', 'dimcrimson', 'dottedolive', 'wavymagenta', 'wavymagenta', 'wavymagenta', 'wavymagenta', 'wavymagenta', 'wavymagenta', 'wavymagenta', 'wavymagenta', 'wavymagenta', 'wavymagenta', 'wavymagenta', 'wavymagenta', 'wavymagenta', 'wavymagenta', 'wavymagenta', 'wavymagenta', 'wavymagenta', 'wavymagenta', 'dimbronze', 'dimcrimson', 'dimcrimson', 'dimcrimson', 'dimcrimson', 'dimcrimson', 'dottedolive', 'dimbronze', 'dimcrimson', 'dimcrimson', 'dimcrimson', 'dimcrimson', 'dimcrimson', 'dottedolive', 'dimbronze', 'dimcrimson', 'dimcrimson', 'dimcrimson', 'dimcrimson', 'dimcrimson', 'dottedolive', 'dimbronze', 'dimcrimson', 'dimcrimson', 'dimcrimson', 'dimcrimson', 'dimcrimson', 'dottedolive', 'wavymagenta', 'wavymagenta', 'wavymagenta', 'wavymagenta', 'wavymagenta', 'wavymagenta', 'wavymagenta', 'wavymagenta', 'wavymagenta', 'wavymagenta', 'wavymagenta', 'wavymagenta', 'wavymagenta', 'wavymagenta', 'wavymagenta', 'wavymagenta', 'wavymagenta', 'wavymagenta', 'dimbronze', 'dimcrimson', 'dimcrimson', 'dimcrimson', 'dimcrimson', 'dimcrimson', 'dottedolive', 'dimbronze', 'dimcrimson', 'dimcrimson', 'dimcrimson', 'dimcrimson', 'dimcrimson', 'dottedolive', 'dimbronze', 'dimcrimson', 'dimcrimson', 'dimcrimson', 'dimcrimson', 'dimcrimson', 'dottedolive', 'dimbronze', 'dimcrimson', 'dimcrimson', 'dimcrimson', 'dimcrimson', 'dimcrimson', 'dottedolive', 'wavymagenta', 'wavymagenta', 'wavymagenta', 'wavymagenta', 'wavymagenta', 'wavymagenta', 'wavymagenta', 'wavymagenta', 'wavymagenta', 'wavymagenta', 'wavymagenta', 'wavymagenta', 'wavymagenta', 'wavymagenta', 'wavymagenta', 'wavymagenta', 'wavymagenta', 'wavymagenta', 'dimbronze', 'dimcrimson', 'dimcrimson', 'dimcrimson', 'dimcrimson', 'dimcrimson', 'dottedolive', 'dimbronze', 'dimcrimson', 'dimcrimson', 'dimcrimson', 'dimcrimson', 'dimcrimson', 'dottedolive', 'dimbronze', 'dimcrimson', 'dimcrimson', 'dimcrimson', 'dimcrimson', 'dimcrimson', 'dottedolive', 'dimbronze', 'dimcrimson', 'dimcrimson', 'dimcrimson', 'dimcrimson', 'dimcrimson', 'dottedolive', 'wavymagenta', 'wavymagenta', 'wavymagenta', 'wavymagenta', 'wavymagenta', 'wavymagenta', 'wavymagenta', 'wavymagenta', 'wavymagenta', 'wavymagenta', 'wavymagenta', 'wavymagenta', 'wavymagenta', 'wavymagenta', 'wavymagenta', 'wavymagenta', 'wavymagenta', 'wavymagenta', 'dimbronze', 'dimcrimson', 'dimcrimson', 'dimcrimson', 'dimcrimson', 'dimcrimson', 'dottedolive', 'dimbronze', 'dimcrimson', 'dimcrimson', 'dimcrimson', 'dimcrimson', 'dimcrimson', 'dottedolive', 'dimbronze', 'dimcrimson', 'dimcrimson', 'dimcrimson', 'dimcrimson', 'dimcrimson', 'dottedolive', 'dimbronze', 'dimcrimson', 'dimcrimson', 'dimcrimson', 'dimcrimson', 'dimcrimson', 'dottedolive', 'wavymagenta', 'wavymagenta', 'wavymagenta', 'wavymagenta', 'wavymagenta', 'wavymagenta', 'wavymagenta', 'wavymagenta', 'wavymagenta', 'wavymagenta', 'wavymagenta', 'wavymagenta', 'wavymagenta', 'wavymagenta', 'wavymagenta', 'wavymagenta', 'wavymagenta', 'wavymagenta', 'mirroredgold', 'mirroredgold', 'mirroredgold', 'mirroredgold', 'mirroredgold', 'mirroredgold', 'mirroredgold', 'mirroredgold', 'mirroredgold', 'mirroredgold', 'mirroredgold', 'mirroredgold', 'mirroredgold', 'mirroredgold', 'mirroredgold', 'mirroredgold', 'mirroredgold', 'mirroredgold', 'mirroredgold', 'mirroredgold', 'mirroredgold', 'mirroredgold', 'mirroredgold', 'mirroredgold', 'mirroredgold', 'mirroredgold', 'mirroredgold', 'mirroredgold', 'mirroredgold', 'mirroredgold', 'mirroredgold', 'mirroredgold', 'mirroredgold', 'mirroredgold', 'mirroredgold', 'mirroredgold', 'dimbronze', 'dimcrimson', 'dimcrimson', 'dimcrimson', 'dimcrimson', 'dimcrimson', 'dottedolive', 'dimbronze', 'dimcrimson', 'dimcrimson', 'dimcrimson', 'dimcrimson', 'dimcrimson', 'dottedolive', 'dimbronze', 'dimcrimson', 'dimcrimson', 'dimcrimson', 'dimcrimson', 'dimcrimson', 'dottedolive', 'dimbronze', 'dimcrimson', 'dimcrimson', 'dimcrimson', 'dimcrimson', 'dimcrimson', 'dottedolive', 'dimbronze', 'dimcrimson', 'dimcrimson', 'dimcrimson', 'dimcrimson', 'dimcrimson', 'dottedolive', 'dimbronze', 'dimcrimson', 'dimcrimson', 'dimcrimson', 'dimcrimson', 'dimcrimson', 'dottedolive', 'dimbronze', 'dimcrimson', 'dimcrimson', 'dimcrimson', 'dimcrimson', 'dimcrimson', 'dottedolive', 'dimbronze', 'dimcrimson', 'dimcrimson', 'dimcrimson', 'dimcrimson', 'dimcrimson', 'dottedolive', 'dimbronze', 'dimcrimson', 'dimcrimson', 'dimcrimson', 'dimcrimson', 'dimcrimson', 'dottedolive', 'dimbronze', 'dimcrimson', 'dimcrimson', 'dimcrimson', 'dimcrimson', 'dimcrimson', 'dottedolive', 'dimbronze', 'dimcrimson', 'dimcrimson', 'dimcrimson', 'dimcrimson', 'dimcrimson', 'dottedolive', 'dimbronze', 'dimcrimson', 'dimcrimson', 'dimcrimson', 'dimcrimson', 'dimcrimson', 'dottedolive', 'dimbronze', 'dimcrimson', 'dimcrimson', 'dimcrimson', 'dimcrimson', 'dimcrimson', 'dottedolive', 'dimbronze', 'dimcrimson', 'dimcrimson', 'dimcrimson', 'dimcrimson', 'dimcrimson', 'dottedolive', 'dimbronze', 'dimcrimson', 'dimcrimson', 'dimcrimson', 'dimcrimson', 'dimcrimson', 'dottedolive', 'dimbronze', 'dimcrimson', 'dimcrimson', 'dimcrimson', 'dimcrimson', 'dimcrimson', 'dottedolive', 'dimbronze', 'dimcrimson', 'dimcrimson', 'dimcrimson', 'dimcrimson', 'dimcrimson', 'dottedolive', 'dimbronze', 'dimcrimson', 'dimcrimson', 'dimcrimson', 'dimcrimson', 'dimcrimson', 'dottedolive', 'dimbronze', 'dimcrimson', 'dimcrimson', 'dimcrimson', 'dimcrimson', 'dimcrimson', 'dottedolive', 'dimbronze', 'dimcrimson', 'dimcrimson', 'dimcrimson', 'dimcrimson', 'dimcrimson', 'dottedolive', 'wavymagenta', 'wavymagenta', 'wavymagenta', 'wavymagenta', 'wavymagenta', 'wavymagenta', 'wavymagenta', 'wavymagenta', 'wavymagenta', 'wavymagenta', 'wavymagenta', 'wavymagenta', 'wavymagenta', 'wavymagenta', 'wavymagenta', 'wavymagenta', 'wavymagenta', 'wavymagenta', 'wavymagenta', 'wavymagenta', 'wavymagenta', 'wavymagenta', 'wavymagenta', 'wavymagenta', 'wavymagenta', 'wavymagenta', 'wavymagenta', 'wavymagenta', 'wavymagenta', 'wavymagenta', 'wavymagenta', 'wavymagenta', 'wavymagenta', 'wavymagenta', 'wavymagenta', 'wavymagenta', 'wavymagenta', 'wavymagenta', 'wavymagenta', 'wavymagenta', 'wavymagenta', 'wavymagenta', 'wavymagenta', 'wavymagenta', 'wavymagenta', 'wavymagenta', 'wavymagenta', 'wavymagenta', 'wavymagenta', 'wavymagenta', 'wavymagenta', 'wavymagenta', 'wavymagenta', 'wavymagenta', 'wavymagenta', 'wavymagenta', 'wavymagenta', 'wavymagenta', 'wavymagenta', 'wavymagenta', 'wavymagenta', 'wavymagenta', 'wavymagenta', 'wavymagenta', 'wavymagenta', 'wavymagenta', 'wavymagenta', 'wavymagenta', 'wavymagenta', 'wavymagenta', 'wavymagenta', 'wavymagenta']\n",
      "1469\n"
     ]
    }
   ],
   "source": [
    "total_bags = []\n",
    "big_bags = ['shinygold']\n",
    "small_bags = []\n",
    "\n",
    "getting_bags = True\n",
    "\n",
    "while getting_bags:\n",
    "\n",
    "    # get list of bags that contained in big_bags (small_bags)\n",
    "    for bag in big_bags:\n",
    "\n",
    "        # get list of bags contained by big_bags \n",
    "        df_temp = df[['contents']][df.bags == f'{bag}']\n",
    "\n",
    "        if list(df_temp.contents) != []:\n",
    "        \n",
    "            li = list(df_temp.contents)[0].strip().split(' ')\n",
    "\n",
    "            # add list to small bags\n",
    "            small_bags.extend(li)\n",
    "\n",
    "    #if small_bags is empty break loop\n",
    "    if len(small_bags) == 0:\n",
    "\n",
    "        break\n",
    "\n",
    "    # add small_bags list to master_list\n",
    "    total_bags.extend(small_bags)\n",
    "\n",
    "    # set big_bags equal to small_bags\n",
    "    big_bags = small_bags\n",
    "\n",
    "    # set small_bags to empty\n",
    "    small_bags = []\n",
    "    \n",
    "    \n",
    "# remove all '' from list\n",
    "\n",
    "while(\"\" in total_bags):\n",
    "    \n",
    "    total_bags.remove('')\n",
    "\n",
    "print(total_bags)\n",
    "\n",
    "# print number of items in total bags\n",
    "print(len(total_bags))"
   ]
  }
 ],
 "metadata": {
  "kernelspec": {
   "display_name": "Python 3",
   "language": "python",
   "name": "python3"
  },
  "language_info": {
   "codemirror_mode": {
    "name": "ipython",
    "version": 3
   },
   "file_extension": ".py",
   "mimetype": "text/x-python",
   "name": "python",
   "nbconvert_exporter": "python",
   "pygments_lexer": "ipython3",
   "version": "3.7.4"
  }
 },
 "nbformat": 4,
 "nbformat_minor": 4
}
