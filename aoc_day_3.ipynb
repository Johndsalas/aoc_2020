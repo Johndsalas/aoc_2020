{
 "cells": [
  {
   "cell_type": "code",
   "execution_count": 1,
   "metadata": {},
   "outputs": [],
   "source": [
    "import pandas as pd\n",
    "import numpy as np"
   ]
  },
  {
   "cell_type": "code",
   "execution_count": 2,
   "metadata": {},
   "outputs": [],
   "source": [
    "# --- Day 3: Toboggan Trajectory ---\n",
    "# With the toboggan login problems resolved, you set off toward the airport. While travel by toboggan might be easy, it's certainly not safe: there's very minimal steering and the area is covered in trees. You'll need to see which angles will take you near the fewest trees.\n",
    "\n",
    "# Due to the local geology, trees in this area only grow on exact integer coordinates in a grid. You make a map (your puzzle input) of the open squares (.) and trees (#) you can see. For example:\n",
    "\n",
    "# ..##.......\n",
    "# #...#...#..\n",
    "# .#....#..#.\n",
    "# ..#.#...#.#\n",
    "# .#...##..#.\n",
    "# ..#.##.....\n",
    "# .#.#.#....#\n",
    "# .#........#\n",
    "# #.##...#...\n",
    "# #...##....#\n",
    "# .#..#...#.#\n",
    "# These aren't the only trees, though; due to something you read about once involving arboreal genetics and biome stability, the same pattern repeats to the right many times:\n",
    "\n",
    "# ..##.........##.........##.........##.........##.........##.......  --->\n",
    "# #...#...#..#...#...#..#...#...#..#...#...#..#...#...#..#...#...#..\n",
    "# .#....#..#..#....#..#..#....#..#..#....#..#..#....#..#..#....#..#.\n",
    "# ..#.#...#.#..#.#...#.#..#.#...#.#..#.#...#.#..#.#...#.#..#.#...#.#\n",
    "# .#...##..#..#...##..#..#...##..#..#...##..#..#...##..#..#...##..#.\n",
    "# ..#.##.......#.##.......#.##.......#.##.......#.##.......#.##.....  --->\n",
    "# .#.#.#....#.#.#.#....#.#.#.#....#.#.#.#....#.#.#.#....#.#.#.#....#\n",
    "# .#........#.#........#.#........#.#........#.#........#.#........#\n",
    "# #.##...#...#.##...#...#.##...#...#.##...#...#.##...#...#.##...#...\n",
    "# #...##....##...##....##...##....##...##....##...##....##...##....#\n",
    "# .#..#...#.#.#..#...#.#.#..#...#.#.#..#...#.#.#..#...#.#.#..#...#.#  --->\n",
    "# You start on the open square (.) in the top-left corner and need to reach the bottom (below the bottom-most row on your map).\n",
    "\n",
    "# The toboggan can only follow a few specific slopes (you opted for a cheaper model that prefers rational numbers); start by counting all the trees you would encounter for the slope right 3, down 1:\n",
    "\n",
    "# From your starting position at the top-left, check the position that is right 3 and down 1. Then, check the position that is right 3 and down 1 from there, and so on until you go past the bottom of the map.\n",
    "\n",
    "# The locations you'd check in the above example are marked here with O where there was an open square and X where there was a tree:\n",
    "\n",
    "# ..##.........##.........##.........##.........##.........##.......  --->\n",
    "# #..O#...#..#...#...#..#...#...#..#...#...#..#...#...#..#...#...#..\n",
    "# .#....X..#..#....#..#..#....#..#..#....#..#..#....#..#..#....#..#.\n",
    "# ..#.#...#O#..#.#...#.#..#.#...#.#..#.#...#.#..#.#...#.#..#.#...#.#\n",
    "# .#...##..#..X...##..#..#...##..#..#...##..#..#...##..#..#...##..#.\n",
    "# ..#.##.......#.X#.......#.##.......#.##.......#.##.......#.##.....  --->\n",
    "# .#.#.#....#.#.#.#.O..#.#.#.#....#.#.#.#....#.#.#.#....#.#.#.#....#\n",
    "# .#........#.#........X.#........#.#........#.#........#.#........#\n",
    "# #.##...#...#.##...#...#.X#...#...#.##...#...#.##...#...#.##...#...\n",
    "# #...##....##...##....##...#X....##...##....##...##....##...##....#\n",
    "# .#..#...#.#.#..#...#.#.#..#...X.#.#..#...#.#.#..#...#.#.#..#...#.#  --->\n",
    "# In this example, traversing the map using this slope would cause you to encounter 7 trees.\n",
    "\n",
    "# Starting at the top-left corner of your map and following a slope of right 3 and down 1, how many trees would you encounter?"
   ]
  },
  {
   "cell_type": "code",
   "execution_count": 3,
   "metadata": {},
   "outputs": [
    {
     "data": {
      "text/html": [
       "<div>\n",
       "<style scoped>\n",
       "    .dataframe tbody tr th:only-of-type {\n",
       "        vertical-align: middle;\n",
       "    }\n",
       "\n",
       "    .dataframe tbody tr th {\n",
       "        vertical-align: top;\n",
       "    }\n",
       "\n",
       "    .dataframe thead th {\n",
       "        text-align: right;\n",
       "    }\n",
       "</style>\n",
       "<table border=\"1\" class=\"dataframe\">\n",
       "  <thead>\n",
       "    <tr style=\"text-align: right;\">\n",
       "      <th></th>\n",
       "      <th>toboggan_slope</th>\n",
       "    </tr>\n",
       "  </thead>\n",
       "  <tbody>\n",
       "    <tr>\n",
       "      <th>0</th>\n",
       "      <td>.##.............##......#.....#</td>\n",
       "    </tr>\n",
       "    <tr>\n",
       "      <th>1</th>\n",
       "      <td>.#.#................#..........</td>\n",
       "    </tr>\n",
       "    <tr>\n",
       "      <th>2</th>\n",
       "      <td>...#..#.##..#.#......#.#.#.#..#</td>\n",
       "    </tr>\n",
       "    <tr>\n",
       "      <th>3</th>\n",
       "      <td>..#......#........#..#..#.#.#..</td>\n",
       "    </tr>\n",
       "    <tr>\n",
       "      <th>4</th>\n",
       "      <td>.......#....#..#..#.......#....</td>\n",
       "    </tr>\n",
       "  </tbody>\n",
       "</table>\n",
       "</div>"
      ],
      "text/plain": [
       "                    toboggan_slope\n",
       "0  .##.............##......#.....#\n",
       "1  .#.#................#..........\n",
       "2  ...#..#.##..#.#......#.#.#.#..#\n",
       "3  ..#......#........#..#..#.#.#..\n",
       "4  .......#....#..#..#.......#...."
      ]
     },
     "execution_count": 3,
     "metadata": {},
     "output_type": "execute_result"
    }
   ],
   "source": [
    "df = pd.read_excel('toboggan_slope_aoc.xlsx')\n",
    "df.head()"
   ]
  },
  {
   "cell_type": "code",
   "execution_count": 4,
   "metadata": {},
   "outputs": [],
   "source": [
    "def multiply_text(value):\n",
    "    \n",
    "    return value * 1000"
   ]
  },
  {
   "cell_type": "code",
   "execution_count": 5,
   "metadata": {},
   "outputs": [],
   "source": [
    "df['toboggan_slope_1000_times'] = df.toboggan_slope.apply(multiply_text)"
   ]
  },
  {
   "cell_type": "code",
   "execution_count": 6,
   "metadata": {},
   "outputs": [
    {
     "data": {
      "text/html": [
       "<div>\n",
       "<style scoped>\n",
       "    .dataframe tbody tr th:only-of-type {\n",
       "        vertical-align: middle;\n",
       "    }\n",
       "\n",
       "    .dataframe tbody tr th {\n",
       "        vertical-align: top;\n",
       "    }\n",
       "\n",
       "    .dataframe thead th {\n",
       "        text-align: right;\n",
       "    }\n",
       "</style>\n",
       "<table border=\"1\" class=\"dataframe\">\n",
       "  <thead>\n",
       "    <tr style=\"text-align: right;\">\n",
       "      <th></th>\n",
       "      <th>toboggan_slope</th>\n",
       "      <th>toboggan_slope_1000_times</th>\n",
       "    </tr>\n",
       "  </thead>\n",
       "  <tbody>\n",
       "    <tr>\n",
       "      <th>0</th>\n",
       "      <td>.##.............##......#.....#</td>\n",
       "      <td>.##.............##......#.....#.##...............</td>\n",
       "    </tr>\n",
       "    <tr>\n",
       "      <th>1</th>\n",
       "      <td>.#.#................#..........</td>\n",
       "      <td>.#.#................#...........#.#..............</td>\n",
       "    </tr>\n",
       "    <tr>\n",
       "      <th>2</th>\n",
       "      <td>...#..#.##..#.#......#.#.#.#..#</td>\n",
       "      <td>...#..#.##..#.#......#.#.#.#..#...#..#.##..#.#...</td>\n",
       "    </tr>\n",
       "    <tr>\n",
       "      <th>3</th>\n",
       "      <td>..#......#........#..#..#.#.#..</td>\n",
       "      <td>..#......#........#..#..#.#.#....#......#........</td>\n",
       "    </tr>\n",
       "    <tr>\n",
       "      <th>4</th>\n",
       "      <td>.......#....#..#..#.......#....</td>\n",
       "      <td>.......#....#..#..#.......#...........#....#.....</td>\n",
       "    </tr>\n",
       "  </tbody>\n",
       "</table>\n",
       "</div>"
      ],
      "text/plain": [
       "                    toboggan_slope  \\\n",
       "0  .##.............##......#.....#   \n",
       "1  .#.#................#..........   \n",
       "2  ...#..#.##..#.#......#.#.#.#..#   \n",
       "3  ..#......#........#..#..#.#.#..   \n",
       "4  .......#....#..#..#.......#....   \n",
       "\n",
       "                           toboggan_slope_1000_times  \n",
       "0  .##.............##......#.....#.##...............  \n",
       "1  .#.#................#...........#.#..............  \n",
       "2  ...#..#.##..#.#......#.#.#.#..#...#..#.##..#.#...  \n",
       "3  ..#......#........#..#..#.#.#....#......#........  \n",
       "4  .......#....#..#..#.......#...........#....#.....  "
      ]
     },
     "execution_count": 6,
     "metadata": {},
     "output_type": "execute_result"
    }
   ],
   "source": [
    "df.head()"
   ]
  },
  {
   "cell_type": "code",
   "execution_count": 7,
   "metadata": {},
   "outputs": [
    {
     "data": {
      "text/plain": [
       "323"
      ]
     },
     "execution_count": 7,
     "metadata": {},
     "output_type": "execute_result"
    }
   ],
   "source": [
    "li = list(df['toboggan_slope_1000_times'])\n",
    "len(li)"
   ]
  },
  {
   "cell_type": "code",
   "execution_count": 8,
   "metadata": {},
   "outputs": [
    {
     "data": {
      "text/plain": [
       "162"
      ]
     },
     "execution_count": 8,
     "metadata": {},
     "output_type": "execute_result"
    }
   ],
   "source": [
    "li2 = []\n",
    "\n",
    "counter = 0\n",
    "\n",
    "for item in li:\n",
    "    \n",
    "    counter += 1\n",
    "    \n",
    "    if counter % 2 != 0:\n",
    "        \n",
    "        li2.append(item)\n",
    "len(li2)        "
   ]
  },
  {
   "cell_type": "code",
   "execution_count": 9,
   "metadata": {},
   "outputs": [
    {
     "name": "stdout",
     "output_type": "stream",
     "text": [
      "Number of Trees: 176\n"
     ]
    }
   ],
   "source": [
    "index = -3\n",
    "\n",
    "tree = 0\n",
    "\n",
    "for item in li:\n",
    "    \n",
    "    index += 3\n",
    "    \n",
    "    symble = item[index]\n",
    "    \n",
    "    if symble == '#':\n",
    "        \n",
    "        tree += 1\n",
    "print(\"Number of Trees:\", tree)"
   ]
  },
  {
   "cell_type": "code",
   "execution_count": 10,
   "metadata": {},
   "outputs": [],
   "source": [
    "# --- Part Two ---\n",
    "# Time to check the rest of the slopes - you need to minimize the probability of a sudden arboreal stop, after all.\n",
    "\n",
    "# Determine the number of trees you would encounter if, for each of the following slopes, \n",
    "# you start at the top-left corner and traverse the map all the way to the bottom:\n",
    "\n",
    "# Right 1, down 1.\n",
    "# Right 3, down 1. (This is the slope you already checked.)\n",
    "# Right 5, down 1.\n",
    "# Right 7, down 1.\n",
    "# Right 1, down 2.\n",
    "# In the above example, these slopes would find 2, 7, 3, 4, and 2 tree(s) respectively; multiplied together, \n",
    "# these produce the answer 336.\n",
    "\n",
    "# What do you get if you multiply together the number of trees encountered on each of the listed slopes?"
   ]
  },
  {
   "cell_type": "code",
   "execution_count": 11,
   "metadata": {},
   "outputs": [
    {
     "data": {
      "text/plain": [
       "[85, 176, 96, 87]"
      ]
     },
     "execution_count": 11,
     "metadata": {},
     "output_type": "execute_result"
    }
   ],
   "source": [
    "master_list = []\n",
    "\n",
    "right_list = [1,3,5,7]\n",
    "\n",
    "for number in right_list:\n",
    "    \n",
    "    index = number * -1\n",
    "\n",
    "    tree = 0\n",
    "\n",
    "    for item in li:\n",
    "\n",
    "        index += number\n",
    "\n",
    "        symble = item[index]\n",
    "\n",
    "        if symble == '#':\n",
    "\n",
    "            tree += 1\n",
    "    master_list.append(tree)\n",
    "\n",
    "master_list"
   ]
  },
  {
   "cell_type": "code",
   "execution_count": 12,
   "metadata": {},
   "outputs": [
    {
     "data": {
      "text/plain": [
       "[85, 176, 96, 87, 47]"
      ]
     },
     "execution_count": 12,
     "metadata": {},
     "output_type": "execute_result"
    }
   ],
   "source": [
    "right_list = [1]\n",
    "\n",
    "for number in right_list:\n",
    "    \n",
    "    index = number * -1\n",
    "\n",
    "    tree = 0\n",
    "\n",
    "    for item in li2:\n",
    "\n",
    "        index += number\n",
    "\n",
    "        symble = item[index]\n",
    "\n",
    "        if symble == '#':\n",
    "\n",
    "            tree += 1\n",
    "    master_list.append(tree)\n",
    "    \n",
    "master_list"
   ]
  },
  {
   "cell_type": "code",
   "execution_count": 13,
   "metadata": {},
   "outputs": [
    {
     "data": {
      "text/plain": [
       "5872458240"
      ]
     },
     "execution_count": 13,
     "metadata": {},
     "output_type": "execute_result"
    }
   ],
   "source": [
    "np.prod(master_list)"
   ]
  }
 ],
 "metadata": {
  "kernelspec": {
   "display_name": "Python 3",
   "language": "python",
   "name": "python3"
  },
  "language_info": {
   "codemirror_mode": {
    "name": "ipython",
    "version": 3
   },
   "file_extension": ".py",
   "mimetype": "text/x-python",
   "name": "python",
   "nbconvert_exporter": "python",
   "pygments_lexer": "ipython3",
   "version": "3.7.4"
  }
 },
 "nbformat": 4,
 "nbformat_minor": 4
}
