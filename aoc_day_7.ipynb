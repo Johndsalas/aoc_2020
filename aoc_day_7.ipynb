{
 "cells": [
  {
   "cell_type": "code",
   "execution_count": 1,
   "metadata": {},
   "outputs": [],
   "source": [
    "import pandas as pd\n",
    "import re"
   ]
  },
  {
   "cell_type": "code",
   "execution_count": 2,
   "metadata": {},
   "outputs": [],
   "source": [
    "# --- Day 7: Handy Haversacks ---\n",
    "# You land at the regional airport in time for your next flight. \n",
    "# In fact, it looks like you'll even have time to grab some food: all flights are currently delayed due to issues in luggage processing.\n",
    "\n",
    "# Due to recent aviation regulations, many rules (your puzzle input) are being enforced about bags and their contents; bags must be color-coded and must contain specific quantities of other color-coded bags. Apparently, nobody responsible for these regulations considered how long they would take to enforce!\n",
    "\n",
    "# For example, consider the following rules:\n",
    "\n",
    "# light red bags contain 1 bright white bag, 2 muted yellow bags.\n",
    "# dark orange bags contain 3 bright white bags, 4 muted yellow bags.\n",
    "# bright white bags contain 1 shiny gold bag.\n",
    "# muted yellow bags contain 2 shiny gold bags, 9 faded blue bags.\n",
    "# shiny gold bags contain 1 dark olive bag, 2 vibrant plum bags.\n",
    "# dark olive bags contain 3 faded blue bags, 4 dotted black bags.\n",
    "# vibrant plum bags contain 5 faded blue bags, 6 dotted black bags.\n",
    "# faded blue bags contain no other bags.\n",
    "# dotted black bags contain no other bags.\n",
    "# These rules specify the required contents for 9 bag types. In this example, every faded blue bag is empty, every vibrant plum bag contains 11 bags (5 faded blue and 6 dotted black), and so on.\n",
    "\n",
    "# You have a shiny gold bag. If you wanted to carry it in at least one other bag, how many different bag colors would be valid for the outermost bag? (In other words: how many colors can, eventually, contain at least one shiny gold bag?)\n",
    "\n",
    "# In the above rules, the following options would be available to you:\n",
    "\n",
    "# A bright white bag, which can hold your shiny gold bag directly.\n",
    "# A muted yellow bag, which can hold your shiny gold bag directly, plus some other bags.\n",
    "# A dark orange bag, which can hold bright white and muted yellow bags, either of which could then hold your shiny gold bag.\n",
    "# A light red bag, which can hold bright white and muted yellow bags, either of which could then hold your shiny gold bag.\n",
    "# So, in this example, the number of bag colors that can eventually contain at least one shiny gold bag is 4.\n",
    "\n",
    "# How many bag colors can eventually contain at least one shiny gold bag? (The list of rules is quite long; make sure you get all of it.)"
   ]
  },
  {
   "cell_type": "code",
   "execution_count": 3,
   "metadata": {},
   "outputs": [
    {
     "data": {
      "text/html": [
       "<div>\n",
       "<style scoped>\n",
       "    .dataframe tbody tr th:only-of-type {\n",
       "        vertical-align: middle;\n",
       "    }\n",
       "\n",
       "    .dataframe tbody tr th {\n",
       "        vertical-align: top;\n",
       "    }\n",
       "\n",
       "    .dataframe thead th {\n",
       "        text-align: right;\n",
       "    }\n",
       "</style>\n",
       "<table border=\"1\" class=\"dataframe\">\n",
       "  <thead>\n",
       "    <tr style=\"text-align: right;\">\n",
       "      <th></th>\n",
       "      <th>bags</th>\n",
       "    </tr>\n",
       "  </thead>\n",
       "  <tbody>\n",
       "    <tr>\n",
       "      <th>0</th>\n",
       "      <td>striped white bags contain 4 drab silver bags.</td>\n",
       "    </tr>\n",
       "    <tr>\n",
       "      <th>1</th>\n",
       "      <td>drab silver bags contain no other bags.</td>\n",
       "    </tr>\n",
       "    <tr>\n",
       "      <th>2</th>\n",
       "      <td>pale plum bags contain 1 dark black bag.</td>\n",
       "    </tr>\n",
       "    <tr>\n",
       "      <th>3</th>\n",
       "      <td>muted gold bags contain 1 wavy red bag, 3 mirr...</td>\n",
       "    </tr>\n",
       "    <tr>\n",
       "      <th>4</th>\n",
       "      <td>muted teal bags contain 2 pale beige bags, 5 c...</td>\n",
       "    </tr>\n",
       "  </tbody>\n",
       "</table>\n",
       "</div>"
      ],
      "text/plain": [
       "                                                bags\n",
       "0     striped white bags contain 4 drab silver bags.\n",
       "1            drab silver bags contain no other bags.\n",
       "2           pale plum bags contain 1 dark black bag.\n",
       "3  muted gold bags contain 1 wavy red bag, 3 mirr...\n",
       "4  muted teal bags contain 2 pale beige bags, 5 c..."
      ]
     },
     "execution_count": 3,
     "metadata": {},
     "output_type": "execute_result"
    }
   ],
   "source": [
    "df = pd.read_excel('bags.xlsx')\n",
    "df.head()"
   ]
  },
  {
   "cell_type": "code",
   "execution_count": 4,
   "metadata": {},
   "outputs": [
    {
     "name": "stdout",
     "output_type": "stream",
     "text": [
      "striped white   4 drab silver bags\n"
     ]
    }
   ],
   "source": [
    "value = 'striped white bags contain 4 drab silver bags.'\n",
    "\n",
    "value = re.findall(r'(.*)bags contain(.*)\\.',value)\n",
    "\n",
    "bags = value[0][0]\n",
    "contents = value[0][1]\n",
    "\n",
    "print(bags,contents)"
   ]
  },
  {
   "cell_type": "code",
   "execution_count": 5,
   "metadata": {},
   "outputs": [],
   "source": [
    "def get_bag_contents(value):\n",
    "    \n",
    "    value = re.findall(r'(.*)bags contain(.*)\\.',value)\n",
    "\n",
    "    return value[0][1]"
   ]
  },
  {
   "cell_type": "code",
   "execution_count": 6,
   "metadata": {},
   "outputs": [],
   "source": [
    "def get_bags(value):\n",
    "    \n",
    "    value = re.findall(r'(.*)bags contain(.*)\\.',value)\n",
    "\n",
    "    return value[0][0].strip()"
   ]
  },
  {
   "cell_type": "code",
   "execution_count": 7,
   "metadata": {},
   "outputs": [],
   "source": [
    "df['contents'] = df.bags.apply(get_bag_contents)\n",
    "df['bags'] = df.bags.apply(get_bags)"
   ]
  },
  {
   "cell_type": "code",
   "execution_count": 8,
   "metadata": {
    "scrolled": true
   },
   "outputs": [
    {
     "data": {
      "text/html": [
       "<div>\n",
       "<style scoped>\n",
       "    .dataframe tbody tr th:only-of-type {\n",
       "        vertical-align: middle;\n",
       "    }\n",
       "\n",
       "    .dataframe tbody tr th {\n",
       "        vertical-align: top;\n",
       "    }\n",
       "\n",
       "    .dataframe thead th {\n",
       "        text-align: right;\n",
       "    }\n",
       "</style>\n",
       "<table border=\"1\" class=\"dataframe\">\n",
       "  <thead>\n",
       "    <tr style=\"text-align: right;\">\n",
       "      <th></th>\n",
       "      <th>bags</th>\n",
       "      <th>contents</th>\n",
       "    </tr>\n",
       "  </thead>\n",
       "  <tbody>\n",
       "    <tr>\n",
       "      <th>0</th>\n",
       "      <td>striped white</td>\n",
       "      <td>4 drab silver bags</td>\n",
       "    </tr>\n",
       "    <tr>\n",
       "      <th>1</th>\n",
       "      <td>drab silver</td>\n",
       "      <td>no other bags</td>\n",
       "    </tr>\n",
       "    <tr>\n",
       "      <th>2</th>\n",
       "      <td>pale plum</td>\n",
       "      <td>1 dark black bag</td>\n",
       "    </tr>\n",
       "    <tr>\n",
       "      <th>3</th>\n",
       "      <td>muted gold</td>\n",
       "      <td>1 wavy red bag, 3 mirrored violet bags, 5 bri...</td>\n",
       "    </tr>\n",
       "    <tr>\n",
       "      <th>4</th>\n",
       "      <td>muted teal</td>\n",
       "      <td>2 pale beige bags, 5 clear beige bags, 2 dott...</td>\n",
       "    </tr>\n",
       "  </tbody>\n",
       "</table>\n",
       "</div>"
      ],
      "text/plain": [
       "            bags                                           contents\n",
       "0  striped white                                 4 drab silver bags\n",
       "1    drab silver                                      no other bags\n",
       "2      pale plum                                   1 dark black bag\n",
       "3     muted gold   1 wavy red bag, 3 mirrored violet bags, 5 bri...\n",
       "4     muted teal   2 pale beige bags, 5 clear beige bags, 2 dott..."
      ]
     },
     "execution_count": 8,
     "metadata": {},
     "output_type": "execute_result"
    }
   ],
   "source": [
    "df.head()"
   ]
  },
  {
   "cell_type": "code",
   "execution_count": 9,
   "metadata": {},
   "outputs": [
    {
     "data": {
      "text/plain": [
       "594"
      ]
     },
     "execution_count": 9,
     "metadata": {},
     "output_type": "execute_result"
    }
   ],
   "source": [
    "len(df.bags)"
   ]
  },
  {
   "cell_type": "code",
   "execution_count": 14,
   "metadata": {},
   "outputs": [
    {
     "name": "stdout",
     "output_type": "stream",
     "text": [
      "103\n"
     ]
    }
   ],
   "source": [
    "total_bags = []\n",
    "small_bags = ['shiny gold']\n",
    "big_bags = []\n",
    "\n",
    "getting_bags = True\n",
    "\n",
    "while getting_bags:\n",
    "\n",
    "    # get list of bags that contain at least one bag in small_bags (bigger_bags)\n",
    "    for bag in small_bags:\n",
    "\n",
    "        # add column 'contains {bag}' to dataframe \n",
    "        df[f'contains {bag}'] = df.contents.str.contains(bag)\n",
    "\n",
    "        # create a dataframe showing only rows with a value of true for 'contains {bag}'\n",
    "        df_temp = df[df[f'contains {bag}'] == True]\n",
    "\n",
    "        # create a list of bags using the bags column of the dataframe\n",
    "        li = list(df_temp.bags)\n",
    "\n",
    "        # add list of bags to bigger_bags\n",
    "        big_bags.extend(li)\n",
    "\n",
    "    # if big_bags id empty break loop\n",
    "    if len(big_bags) == 0:\n",
    "\n",
    "        break\n",
    "\n",
    "    # add bags list to master_list\n",
    "    total_bags.extend(big_bags)\n",
    "\n",
    "    # set bags list to equal bigger_bags list\n",
    "    small_bags = big_bags\n",
    "\n",
    "    # set bigger_bags to empty\n",
    "    big_bags = []\n",
    "\n",
    "# print number of items in total bags\n",
    "print(len(set(total_bags)))"
   ]
  },
  {
   "cell_type": "code",
   "execution_count": null,
   "metadata": {},
   "outputs": [],
   "source": []
  },
  {
   "cell_type": "code",
   "execution_count": null,
   "metadata": {},
   "outputs": [],
   "source": []
  },
  {
   "cell_type": "code",
   "execution_count": null,
   "metadata": {},
   "outputs": [],
   "source": []
  },
  {
   "cell_type": "code",
   "execution_count": 11,
   "metadata": {},
   "outputs": [
    {
     "name": "stdout",
     "output_type": "stream",
     "text": [
      "master list []\n",
      "bags ['shiny gold bag']\n",
      "bigger_bags []\n",
      "              bags                                           contents  \\\n",
      "66      dim maroon          5 shiny gold bags, 4 mirrored maroon bags   \n",
      "85   drab lavender   2 plaid black bags, 4 dotted gray bags, 1 dim...   \n",
      "434     plaid gold   5 shiny beige bags, 3 faded fuchsia bags, 5 v...   \n",
      "466    posh salmon   4 dim plum bags, 1 pale yellow bag, 2 shiny g...   \n",
      "536    dotted lime             1 shiny gold bag, 3 plaid crimson bags   \n",
      "593    muted white   3 muted tomato bags, 5 light black bags, 4 pa...   \n",
      "\n",
      "     contains shiny gold bag  contains dim maroon  contains drab lavender  \\\n",
      "66                      True                False                   False   \n",
      "85                      True                False                   False   \n",
      "434                     True                False                   False   \n",
      "466                     True                False                   False   \n",
      "536                     True                False                   False   \n",
      "593                     True                False                   False   \n",
      "\n",
      "     contains plaid gold  contains posh salmon  contains dotted lime  \\\n",
      "66                 False                 False                 False   \n",
      "85                 False                 False                 False   \n",
      "434                False                 False                 False   \n",
      "466                False                 False                 False   \n",
      "536                False                 False                 False   \n",
      "593                False                 False                 False   \n",
      "\n",
      "     contains muted white  contains dark white  ...  contains shiny aqua  \\\n",
      "66                  False                False  ...                False   \n",
      "85                  False                False  ...                False   \n",
      "434                 False                False  ...                False   \n",
      "466                 False                False  ...                False   \n",
      "536                 False                False  ...                False   \n",
      "593                 False                False  ...                False   \n",
      "\n",
      "     contains mirrored olive  contains vibrant salmon  contains dark lavender  \\\n",
      "66                     False                    False                   False   \n",
      "85                     False                    False                   False   \n",
      "434                    False                    False                   False   \n",
      "466                    False                    False                   False   \n",
      "536                    False                    False                   False   \n",
      "593                    False                    False                   False   \n",
      "\n",
      "     contains faded salmon  contains dull crimson  contains mirrored tomato  \\\n",
      "66                   False                  False                     False   \n",
      "85                   False                  False                     False   \n",
      "434                  False                  False                     False   \n",
      "466                  False                  False                     False   \n",
      "536                  False                  False                     False   \n",
      "593                  False                  False                     False   \n",
      "\n",
      "     contains vibrant lime  contains bright bronze  contains dotted yellow  \n",
      "66                   False                   False                   False  \n",
      "85                   False                   False                   False  \n",
      "434                  False                   False                   False  \n",
      "466                  False                   False                   False  \n",
      "536                  False                   False                   False  \n",
      "593                  False                   False                   False  \n",
      "\n",
      "[6 rows x 106 columns]\n",
      "master list ['shiny gold bag']\n",
      "bags [True, True, True, True, True, True]\n",
      "bigger_bags []\n"
     ]
    },
    {
     "ename": "TypeError",
     "evalue": "first argument must be string or compiled pattern",
     "output_type": "error",
     "traceback": [
      "\u001b[0;31m---------------------------------------------------------------------------\u001b[0m",
      "\u001b[0;31mTypeError\u001b[0m                                 Traceback (most recent call last)",
      "\u001b[0;32m<ipython-input-11-fbfdf83083ca>\u001b[0m in \u001b[0;36m<module>\u001b[0;34m\u001b[0m\n\u001b[1;32m     14\u001b[0m \u001b[0;34m\u001b[0m\u001b[0m\n\u001b[1;32m     15\u001b[0m         \u001b[0;31m# add column contains {bag} for each bag in bags showing if the bag in the bags column contains that bag\u001b[0m\u001b[0;34m\u001b[0m\u001b[0;34m\u001b[0m\u001b[0;34m\u001b[0m\u001b[0m\n\u001b[0;32m---> 16\u001b[0;31m         \u001b[0mdf\u001b[0m\u001b[0;34m[\u001b[0m\u001b[0;34mf'contains {bag}'\u001b[0m\u001b[0;34m]\u001b[0m \u001b[0;34m=\u001b[0m \u001b[0mdf\u001b[0m\u001b[0;34m.\u001b[0m\u001b[0mcontents\u001b[0m\u001b[0;34m.\u001b[0m\u001b[0mstr\u001b[0m\u001b[0;34m.\u001b[0m\u001b[0mcontains\u001b[0m\u001b[0;34m(\u001b[0m\u001b[0mbag\u001b[0m\u001b[0;34m)\u001b[0m\u001b[0;34m\u001b[0m\u001b[0;34m\u001b[0m\u001b[0m\n\u001b[0m\u001b[1;32m     17\u001b[0m \u001b[0;34m\u001b[0m\u001b[0m\n\u001b[1;32m     18\u001b[0m         \u001b[0;31m# create a list of bags holding each bag that contains a bag in bags.\u001b[0m\u001b[0;34m\u001b[0m\u001b[0;34m\u001b[0m\u001b[0;34m\u001b[0m\u001b[0m\n",
      "\u001b[0;32m/usr/local/anaconda3/lib/python3.7/site-packages/pandas/core/strings.py\u001b[0m in \u001b[0;36mwrapper\u001b[0;34m(self, *args, **kwargs)\u001b[0m\n\u001b[1;32m   1999\u001b[0m                 )\n\u001b[1;32m   2000\u001b[0m                 \u001b[0;32mraise\u001b[0m \u001b[0mTypeError\u001b[0m\u001b[0;34m(\u001b[0m\u001b[0mmsg\u001b[0m\u001b[0;34m)\u001b[0m\u001b[0;34m\u001b[0m\u001b[0;34m\u001b[0m\u001b[0m\n\u001b[0;32m-> 2001\u001b[0;31m             \u001b[0;32mreturn\u001b[0m \u001b[0mfunc\u001b[0m\u001b[0;34m(\u001b[0m\u001b[0mself\u001b[0m\u001b[0;34m,\u001b[0m \u001b[0;34m*\u001b[0m\u001b[0margs\u001b[0m\u001b[0;34m,\u001b[0m \u001b[0;34m**\u001b[0m\u001b[0mkwargs\u001b[0m\u001b[0;34m)\u001b[0m\u001b[0;34m\u001b[0m\u001b[0;34m\u001b[0m\u001b[0m\n\u001b[0m\u001b[1;32m   2002\u001b[0m \u001b[0;34m\u001b[0m\u001b[0m\n\u001b[1;32m   2003\u001b[0m         \u001b[0mwrapper\u001b[0m\u001b[0;34m.\u001b[0m\u001b[0m__name__\u001b[0m \u001b[0;34m=\u001b[0m \u001b[0mfunc_name\u001b[0m\u001b[0;34m\u001b[0m\u001b[0;34m\u001b[0m\u001b[0m\n",
      "\u001b[0;32m/usr/local/anaconda3/lib/python3.7/site-packages/pandas/core/strings.py\u001b[0m in \u001b[0;36mcontains\u001b[0;34m(self, pat, case, flags, na, regex)\u001b[0m\n\u001b[1;32m   2823\u001b[0m     \u001b[0;32mdef\u001b[0m \u001b[0mcontains\u001b[0m\u001b[0;34m(\u001b[0m\u001b[0mself\u001b[0m\u001b[0;34m,\u001b[0m \u001b[0mpat\u001b[0m\u001b[0;34m,\u001b[0m \u001b[0mcase\u001b[0m\u001b[0;34m=\u001b[0m\u001b[0;32mTrue\u001b[0m\u001b[0;34m,\u001b[0m \u001b[0mflags\u001b[0m\u001b[0;34m=\u001b[0m\u001b[0;36m0\u001b[0m\u001b[0;34m,\u001b[0m \u001b[0mna\u001b[0m\u001b[0;34m=\u001b[0m\u001b[0mnp\u001b[0m\u001b[0;34m.\u001b[0m\u001b[0mnan\u001b[0m\u001b[0;34m,\u001b[0m \u001b[0mregex\u001b[0m\u001b[0;34m=\u001b[0m\u001b[0;32mTrue\u001b[0m\u001b[0;34m)\u001b[0m\u001b[0;34m:\u001b[0m\u001b[0;34m\u001b[0m\u001b[0;34m\u001b[0m\u001b[0m\n\u001b[1;32m   2824\u001b[0m         result = str_contains(\n\u001b[0;32m-> 2825\u001b[0;31m             \u001b[0mself\u001b[0m\u001b[0;34m.\u001b[0m\u001b[0m_parent\u001b[0m\u001b[0;34m,\u001b[0m \u001b[0mpat\u001b[0m\u001b[0;34m,\u001b[0m \u001b[0mcase\u001b[0m\u001b[0;34m=\u001b[0m\u001b[0mcase\u001b[0m\u001b[0;34m,\u001b[0m \u001b[0mflags\u001b[0m\u001b[0;34m=\u001b[0m\u001b[0mflags\u001b[0m\u001b[0;34m,\u001b[0m \u001b[0mna\u001b[0m\u001b[0;34m=\u001b[0m\u001b[0mna\u001b[0m\u001b[0;34m,\u001b[0m \u001b[0mregex\u001b[0m\u001b[0;34m=\u001b[0m\u001b[0mregex\u001b[0m\u001b[0;34m\u001b[0m\u001b[0;34m\u001b[0m\u001b[0m\n\u001b[0m\u001b[1;32m   2826\u001b[0m         )\n\u001b[1;32m   2827\u001b[0m         \u001b[0;32mreturn\u001b[0m \u001b[0mself\u001b[0m\u001b[0;34m.\u001b[0m\u001b[0m_wrap_result\u001b[0m\u001b[0;34m(\u001b[0m\u001b[0mresult\u001b[0m\u001b[0;34m,\u001b[0m \u001b[0mfill_value\u001b[0m\u001b[0;34m=\u001b[0m\u001b[0mna\u001b[0m\u001b[0;34m,\u001b[0m \u001b[0mreturns_string\u001b[0m\u001b[0;34m=\u001b[0m\u001b[0;32mFalse\u001b[0m\u001b[0;34m)\u001b[0m\u001b[0;34m\u001b[0m\u001b[0;34m\u001b[0m\u001b[0m\n",
      "\u001b[0;32m/usr/local/anaconda3/lib/python3.7/site-packages/pandas/core/strings.py\u001b[0m in \u001b[0;36mstr_contains\u001b[0;34m(arr, pat, case, flags, na, regex)\u001b[0m\n\u001b[1;32m    437\u001b[0m             \u001b[0mflags\u001b[0m \u001b[0;34m|=\u001b[0m \u001b[0mre\u001b[0m\u001b[0;34m.\u001b[0m\u001b[0mIGNORECASE\u001b[0m\u001b[0;34m\u001b[0m\u001b[0;34m\u001b[0m\u001b[0m\n\u001b[1;32m    438\u001b[0m \u001b[0;34m\u001b[0m\u001b[0m\n\u001b[0;32m--> 439\u001b[0;31m         \u001b[0mregex\u001b[0m \u001b[0;34m=\u001b[0m \u001b[0mre\u001b[0m\u001b[0;34m.\u001b[0m\u001b[0mcompile\u001b[0m\u001b[0;34m(\u001b[0m\u001b[0mpat\u001b[0m\u001b[0;34m,\u001b[0m \u001b[0mflags\u001b[0m\u001b[0;34m=\u001b[0m\u001b[0mflags\u001b[0m\u001b[0;34m)\u001b[0m\u001b[0;34m\u001b[0m\u001b[0;34m\u001b[0m\u001b[0m\n\u001b[0m\u001b[1;32m    440\u001b[0m \u001b[0;34m\u001b[0m\u001b[0m\n\u001b[1;32m    441\u001b[0m         \u001b[0;32mif\u001b[0m \u001b[0mregex\u001b[0m\u001b[0;34m.\u001b[0m\u001b[0mgroups\u001b[0m \u001b[0;34m>\u001b[0m \u001b[0;36m0\u001b[0m\u001b[0;34m:\u001b[0m\u001b[0;34m\u001b[0m\u001b[0;34m\u001b[0m\u001b[0m\n",
      "\u001b[0;32m/usr/local/anaconda3/lib/python3.7/re.py\u001b[0m in \u001b[0;36mcompile\u001b[0;34m(pattern, flags)\u001b[0m\n\u001b[1;32m    232\u001b[0m \u001b[0;32mdef\u001b[0m \u001b[0mcompile\u001b[0m\u001b[0;34m(\u001b[0m\u001b[0mpattern\u001b[0m\u001b[0;34m,\u001b[0m \u001b[0mflags\u001b[0m\u001b[0;34m=\u001b[0m\u001b[0;36m0\u001b[0m\u001b[0;34m)\u001b[0m\u001b[0;34m:\u001b[0m\u001b[0;34m\u001b[0m\u001b[0;34m\u001b[0m\u001b[0m\n\u001b[1;32m    233\u001b[0m     \u001b[0;34m\"Compile a regular expression pattern, returning a Pattern object.\"\u001b[0m\u001b[0;34m\u001b[0m\u001b[0;34m\u001b[0m\u001b[0m\n\u001b[0;32m--> 234\u001b[0;31m     \u001b[0;32mreturn\u001b[0m \u001b[0m_compile\u001b[0m\u001b[0;34m(\u001b[0m\u001b[0mpattern\u001b[0m\u001b[0;34m,\u001b[0m \u001b[0mflags\u001b[0m\u001b[0;34m)\u001b[0m\u001b[0;34m\u001b[0m\u001b[0;34m\u001b[0m\u001b[0m\n\u001b[0m\u001b[1;32m    235\u001b[0m \u001b[0;34m\u001b[0m\u001b[0m\n\u001b[1;32m    236\u001b[0m \u001b[0;32mdef\u001b[0m \u001b[0mpurge\u001b[0m\u001b[0;34m(\u001b[0m\u001b[0;34m)\u001b[0m\u001b[0;34m:\u001b[0m\u001b[0;34m\u001b[0m\u001b[0;34m\u001b[0m\u001b[0m\n",
      "\u001b[0;32m/usr/local/anaconda3/lib/python3.7/re.py\u001b[0m in \u001b[0;36m_compile\u001b[0;34m(pattern, flags)\u001b[0m\n\u001b[1;32m    283\u001b[0m         \u001b[0;32mreturn\u001b[0m \u001b[0mpattern\u001b[0m\u001b[0;34m\u001b[0m\u001b[0;34m\u001b[0m\u001b[0m\n\u001b[1;32m    284\u001b[0m     \u001b[0;32mif\u001b[0m \u001b[0;32mnot\u001b[0m \u001b[0msre_compile\u001b[0m\u001b[0;34m.\u001b[0m\u001b[0misstring\u001b[0m\u001b[0;34m(\u001b[0m\u001b[0mpattern\u001b[0m\u001b[0;34m)\u001b[0m\u001b[0;34m:\u001b[0m\u001b[0;34m\u001b[0m\u001b[0;34m\u001b[0m\u001b[0m\n\u001b[0;32m--> 285\u001b[0;31m         \u001b[0;32mraise\u001b[0m \u001b[0mTypeError\u001b[0m\u001b[0;34m(\u001b[0m\u001b[0;34m\"first argument must be string or compiled pattern\"\u001b[0m\u001b[0;34m)\u001b[0m\u001b[0;34m\u001b[0m\u001b[0;34m\u001b[0m\u001b[0m\n\u001b[0m\u001b[1;32m    286\u001b[0m     \u001b[0mp\u001b[0m \u001b[0;34m=\u001b[0m \u001b[0msre_compile\u001b[0m\u001b[0;34m.\u001b[0m\u001b[0mcompile\u001b[0m\u001b[0;34m(\u001b[0m\u001b[0mpattern\u001b[0m\u001b[0;34m,\u001b[0m \u001b[0mflags\u001b[0m\u001b[0;34m)\u001b[0m\u001b[0;34m\u001b[0m\u001b[0;34m\u001b[0m\u001b[0m\n\u001b[1;32m    287\u001b[0m     \u001b[0;32mif\u001b[0m \u001b[0;32mnot\u001b[0m \u001b[0;34m(\u001b[0m\u001b[0mflags\u001b[0m \u001b[0;34m&\u001b[0m \u001b[0mDEBUG\u001b[0m\u001b[0;34m)\u001b[0m\u001b[0;34m:\u001b[0m\u001b[0;34m\u001b[0m\u001b[0;34m\u001b[0m\u001b[0m\n",
      "\u001b[0;31mTypeError\u001b[0m: first argument must be string or compiled pattern"
     ]
    }
   ],
   "source": [
    "master_list = []\n",
    "bags = ['shiny gold bag']\n",
    "bigger_bags = []\n",
    "\n",
    "getting_bags = True\n",
    "while getting_bags:\n",
    "    \n",
    "    print(\"master list\", master_list)\n",
    "    print(\"bags\", bags)\n",
    "    print(\"bigger_bags\", bigger_bags)\n",
    "    \n",
    "    # get list of bags that contain at least one bag in bags (bigger_bags)\n",
    "    for bag in bags:\n",
    "\n",
    "        # add column contains {bag} for each bag in bags showing if the bag in the bags column contains that bag \n",
    "        df[f'contains {bag}'] = df.contents.str.contains(bag)\n",
    "\n",
    "        # create a list of bags holding each bag that contains a bag in bags.\n",
    "\n",
    "        df_temp = df[df[f'contains {bag}'] == True]\n",
    "        \n",
    "        print(df_temp)\n",
    "\n",
    "        li = list(df_temp[f'contains {bag}'])\n",
    "        \n",
    "        bigger_bags.extend(li)\n",
    "        \n",
    "    # if bigger_bags id empty break loop\n",
    "    \n",
    "    if len(bigger_bags) == 0:\n",
    "        \n",
    "        break\n",
    "        \n",
    "    # add bags list to master_list\n",
    "\n",
    "    master_list.extend(bags)\n",
    "\n",
    "    # set bags list to equal bigger_bags list\n",
    "\n",
    "    bags = bigger_bags\n",
    "\n",
    "    # set bigger_bags to empty\n",
    "\n",
    "    bigger_bags = []\n",
    "\n",
    "    #return length of master list    \n",
    "    len(master_list)"
   ]
  },
  {
   "cell_type": "code",
   "execution_count": null,
   "metadata": {},
   "outputs": [],
   "source": []
  },
  {
   "cell_type": "code",
   "execution_count": null,
   "metadata": {},
   "outputs": [],
   "source": []
  },
  {
   "cell_type": "code",
   "execution_count": null,
   "metadata": {},
   "outputs": [],
   "source": []
  },
  {
   "cell_type": "code",
   "execution_count": null,
   "metadata": {},
   "outputs": [],
   "source": [
    "# identify bags that contain shiny gold bags in the dataframe\n",
    "\n",
    "df['contains_sgb'] = df.contents.str.contains('shiny gold bag')\n",
    "\n",
    "df_sgb = df[df.contains_sgb == True]\n",
    "\n",
    "df_sgb.head()"
   ]
  },
  {
   "cell_type": "code",
   "execution_count": null,
   "metadata": {},
   "outputs": [],
   "source": [
    "# list of bags containing shiny gold bags\n",
    "bags_containing_sgb = list(df_sgb.bags)\n",
    "\n",
    "bags_containing_sgb"
   ]
  },
  {
   "cell_type": "code",
   "execution_count": null,
   "metadata": {},
   "outputs": [],
   "source": [
    "# identify bags that contain bags that contain shiny gold bags in the dataframe\n",
    "for bag in bags_containing_sgb:\n",
    "\n",
    "    df[f'contains {bag}'] = df.contents.str.contains(bag)"
   ]
  },
  {
   "cell_type": "code",
   "execution_count": null,
   "metadata": {},
   "outputs": [],
   "source": [
    "for bag in contains_sgb:\n",
    "    \n",
    "    bags_containing_bags_containing_sgb_list = []\n",
    "    \n",
    "    df_bags_containing_bags_containing_sgb = df[df[f'contains {bag}'] == True]\n",
    "    \n",
    "    li = list(df_bags_containing_bags_containing_sgb.bags)\n",
    "    \n",
    "    print(li)\n"
   ]
  },
  {
   "cell_type": "code",
   "execution_count": null,
   "metadata": {},
   "outputs": [],
   "source": [
    "for bag in contains_sgb_list:\n",
    "\n",
    "    df[f'contains {bag}'] = df.contents.str.contains(bag)"
   ]
  },
  {
   "cell_type": "code",
   "execution_count": null,
   "metadata": {},
   "outputs": [],
   "source": [
    "df"
   ]
  },
  {
   "cell_type": "code",
   "execution_count": null,
   "metadata": {},
   "outputs": [],
   "source": [
    "contains_bags_that_contain_sgb = []\n",
    "\n",
    "for bag in contains_sgb_list:\n",
    "    \n",
    "    df[f'contains {bag}'] = df.contents.str.contains(bag)\n",
    "    \n",
    "    df_temp = df[df[f'contains {bag}'] == True]\n",
    "    \n",
    "    li = list(df.bags)\n",
    "    \n",
    "    contains_bags_that_contain_sgb.extend(li)\n",
    "\n",
    "contains_bags_that_contain_sgb = set(contains_bags_that_contain_sgb)\n",
    "\n",
    "contains_bags_that_contain_sgb"
   ]
  },
  {
   "cell_type": "code",
   "execution_count": null,
   "metadata": {},
   "outputs": [],
   "source": [
    "print(len(contains_bags_that_contain_sgb), len(set(contains_bags_that_contain_sgb)))"
   ]
  },
  {
   "cell_type": "code",
   "execution_count": null,
   "metadata": {},
   "outputs": [],
   "source": [
    "df.shape"
   ]
  },
  {
   "cell_type": "code",
   "execution_count": null,
   "metadata": {},
   "outputs": [],
   "source": [
    "contains_bags_that_contain_bags_that_contain_sgb = []\n",
    "\n",
    "for bag in contains_bags_that_contain_sgb:\n",
    "    \n",
    "    df_temp = df[df[f'contains {bag}'] == True]\n",
    "    \n",
    "    li = list(df.bags)\n",
    "    \n",
    "    contains_bags_that_contain_bags_that_contain_sgb.extend(li)\n",
    "\n",
    "contains_bags_that_contain_bags_that_contain_sgb = set(contains_bags_that_contain_bags_that_contain_sgb)\n",
    "\n",
    "contains_bags_that_contain_bags_that_contain_sgb\n",
    "\n",
    "\n"
   ]
  },
  {
   "cell_type": "code",
   "execution_count": null,
   "metadata": {},
   "outputs": [],
   "source": []
  }
 ],
 "metadata": {
  "kernelspec": {
   "display_name": "Python 3",
   "language": "python",
   "name": "python3"
  },
  "language_info": {
   "codemirror_mode": {
    "name": "ipython",
    "version": 3
   },
   "file_extension": ".py",
   "mimetype": "text/x-python",
   "name": "python",
   "nbconvert_exporter": "python",
   "pygments_lexer": "ipython3",
   "version": "3.7.4"
  }
 },
 "nbformat": 4,
 "nbformat_minor": 4
}
