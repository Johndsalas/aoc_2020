{
 "cells": [
  {
   "cell_type": "code",
   "execution_count": 1,
   "metadata": {},
   "outputs": [],
   "source": [
    "import pandas as pd\n",
    "import re"
   ]
  },
  {
   "cell_type": "code",
   "execution_count": 2,
   "metadata": {},
   "outputs": [],
   "source": [
    "# --- Day 8: Handheld Halting ---\n",
    "# Your flight to the major airline hub reaches cruising altitude without incident. While you consider checking the in-flight menu for one of those drinks that come with a little umbrella, you are interrupted by the kid sitting next to you.\n",
    "\n",
    "# Their handheld game console won't turn on! They ask if you can take a look.\n",
    "\n",
    "# You narrow the problem down to a strange infinite loop in the boot code (your puzzle input) of the device. You should be able to fix it, but first you need to be able to run the code in isolation.\n",
    "\n",
    "# The boot code is represented as a text file with one instruction per line of text. Each instruction consists of an operation (acc, jmp, or nop) and an argument (a signed number like +4 or -20).\n",
    "\n",
    "# acc increases or decreases a single global value called the accumulator by the value given in the argument. For example, acc +7 would increase the accumulator by 7. The accumulator starts at 0. After an acc instruction, the instruction immediately below it is executed next.\n",
    "# jmp jumps to a new instruction relative to itself. The next instruction to execute is found using the argument as an offset from the jmp instruction; for example, jmp +2 would skip the next instruction, jmp +1 would continue to the instruction immediately below it, and jmp -20 would cause the instruction 20 lines above to be executed next.\n",
    "# nop stands for No OPeration - it does nothing. The instruction immediately below it is executed next.\n",
    "# For example, consider the following program:\n",
    "\n",
    "# nop +0\n",
    "# acc +1\n",
    "# jmp +4\n",
    "# acc +3\n",
    "# jmp -3\n",
    "# acc -99\n",
    "# acc +1\n",
    "# jmp -4\n",
    "# acc +6\n",
    "# These instructions are visited in this order:\n",
    "\n",
    "# nop +0  | 1\n",
    "# acc +1  | 2, 8(!)\n",
    "# jmp +4  | 3\n",
    "# acc +3  | 6\n",
    "# jmp -3  | 7\n",
    "# acc -99 |\n",
    "# acc +1  | 4\n",
    "# jmp -4  | 5\n",
    "# acc +6  |\n",
    "# First, the nop +0 does nothing. Then, the accumulator is increased from 0 to 1 (acc +1) and jmp +4 sets the next instruction to the other acc +1 near the bottom. After it increases the accumulator from 1 to 2, jmp -4 executes, setting the next instruction to the only acc +3. It sets the accumulator to 5, and jmp -3 causes the program to continue back at the first acc +1.\n",
    "\n",
    "# This is an infinite loop: with this sequence of jumps, the program will run forever. The moment the program tries to run any instruction a second time, you know it will never terminate.\n",
    "\n",
    "# Immediately before the program would run an instruction a second time, the value in the accumulator is 5.\n",
    "\n",
    "# Run your copy of the boot code. Immediately before any instruction is executed a second time, what value is in the accumulator?"
   ]
  },
  {
   "cell_type": "code",
   "execution_count": 3,
   "metadata": {},
   "outputs": [
    {
     "data": {
      "text/html": [
       "<div>\n",
       "<style scoped>\n",
       "    .dataframe tbody tr th:only-of-type {\n",
       "        vertical-align: middle;\n",
       "    }\n",
       "\n",
       "    .dataframe tbody tr th {\n",
       "        vertical-align: top;\n",
       "    }\n",
       "\n",
       "    .dataframe thead th {\n",
       "        text-align: right;\n",
       "    }\n",
       "</style>\n",
       "<table border=\"1\" class=\"dataframe\">\n",
       "  <thead>\n",
       "    <tr style=\"text-align: right;\">\n",
       "      <th></th>\n",
       "      <th>code</th>\n",
       "    </tr>\n",
       "  </thead>\n",
       "  <tbody>\n",
       "    <tr>\n",
       "      <th>0</th>\n",
       "      <td>nop +283</td>\n",
       "    </tr>\n",
       "    <tr>\n",
       "      <th>1</th>\n",
       "      <td>acc +26</td>\n",
       "    </tr>\n",
       "    <tr>\n",
       "      <th>2</th>\n",
       "      <td>acc +37</td>\n",
       "    </tr>\n",
       "    <tr>\n",
       "      <th>3</th>\n",
       "      <td>acc +6</td>\n",
       "    </tr>\n",
       "    <tr>\n",
       "      <th>4</th>\n",
       "      <td>jmp +109</td>\n",
       "    </tr>\n",
       "  </tbody>\n",
       "</table>\n",
       "</div>"
      ],
      "text/plain": [
       "       code\n",
       "0  nop +283\n",
       "1   acc +26\n",
       "2   acc +37\n",
       "3    acc +6\n",
       "4  jmp +109"
      ]
     },
     "execution_count": 3,
     "metadata": {},
     "output_type": "execute_result"
    }
   ],
   "source": [
    "# get dataframe from excel\n",
    "df = pd.read_excel('code.xlsx')\n",
    "df.head()"
   ]
  },
  {
   "cell_type": "code",
   "execution_count": 4,
   "metadata": {},
   "outputs": [
    {
     "data": {
      "text/plain": [
       "631"
      ]
     },
     "execution_count": 4,
     "metadata": {},
     "output_type": "execute_result"
    }
   ],
   "source": [
    "code_list = list(df.code)\n",
    "len(code_list)"
   ]
  },
  {
   "cell_type": "code",
   "execution_count": 5,
   "metadata": {},
   "outputs": [
    {
     "data": {
      "text/plain": [
       "66"
      ]
     },
     "execution_count": 5,
     "metadata": {},
     "output_type": "execute_result"
    }
   ],
   "source": [
    "df.code.str.contains('nop').sum()"
   ]
  },
  {
   "cell_type": "code",
   "execution_count": 6,
   "metadata": {},
   "outputs": [
    {
     "data": {
      "text/plain": [
       "228"
      ]
     },
     "execution_count": 6,
     "metadata": {},
     "output_type": "execute_result"
    }
   ],
   "source": [
    "df.code.str.contains('jmp').sum()"
   ]
  },
  {
   "cell_type": "code",
   "execution_count": 14,
   "metadata": {},
   "outputs": [
    {
     "name": "stdout",
     "output_type": "stream",
     "text": [
      "1179\n"
     ]
    }
   ],
   "source": [
    "# get code_list from pandas dataframe\n",
    "code_list = list(df.code)\n",
    "\n",
    "# empty list for index numbers\n",
    "previous_index_numbers = []\n",
    "\n",
    "# set index and accumulator to zero\n",
    "index = 0\n",
    "acc = 0\n",
    "\n",
    "# begin loop\n",
    "running_code = True\n",
    "while running_code:\n",
    "    \n",
    "    # if index is in list of previous indexes end loop, otherwise process current code\n",
    "    if index in previous_index_numbers:\n",
    "        \n",
    "        break\n",
    "        \n",
    "    else:\n",
    "\n",
    "        # add index to previous_index_numbers\n",
    "        previous_index_numbers.append(index)\n",
    "        \n",
    "        # get current code from list\n",
    "        code = code_list[index]\n",
    "\n",
    "        # get command, number, and sign for current code\n",
    "        mod = re.findall(r'(\\w*)',code)\n",
    "        \n",
    "        # remove '' from mod\n",
    "        while(\"\" in mod):\n",
    "            mod.remove('')\n",
    "\n",
    "        \n",
    "        command = mod[0]\n",
    "        amount = int(mod[1])\n",
    "        sign = re.findall(r'\\s(\\W)',code)[0]\n",
    "        \n",
    "        # if command is 'nop' raise 'index' by 1\n",
    "        if command == 'nop':\n",
    "\n",
    "            index += 1\n",
    "\n",
    "        # if command is 'acc' raise or lower the 'acc' by amount based on the code's sign\n",
    "        # raise index by 1\n",
    "        if command == 'acc':\n",
    "            \n",
    "            index += 1\n",
    "            \n",
    "            if sign == '+':\n",
    "                \n",
    "                acc += amount\n",
    "                \n",
    "            if sign == '-':\n",
    "                \n",
    "                acc -= amount\n",
    "            \n",
    "        # if command is 'jmp' raise or lower index by amount based on the code's sign\n",
    "        if command == 'jmp':\n",
    "            \n",
    "            if sign == '+':\n",
    "                \n",
    "                index += amount\n",
    "                \n",
    "            if sign == '-':\n",
    "                \n",
    "                index -= amount\n",
    "\n",
    "print(acc)"
   ]
  },
  {
   "cell_type": "code",
   "execution_count": null,
   "metadata": {},
   "outputs": [],
   "source": [
    "# --- Part Two ---\n",
    "# After some careful analysis, you believe that exactly one instruction is corrupted.\n",
    "\n",
    "# Somewhere in the program, either a jmp is supposed to be a nop, or a nop is supposed to be a jmp. (No acc instructions were harmed in the corruption of this boot code.)\n",
    "\n",
    "# The program is supposed to terminate by attempting to execute an instruction immediately after the last instruction in the file. By changing exactly one jmp or nop, you can repair the boot code and make it terminate correctly.\n",
    "\n",
    "# For example, consider the same program from above:\n",
    "\n",
    "# nop +0\n",
    "# acc +1\n",
    "# jmp +4\n",
    "# acc +3\n",
    "# jmp -3\n",
    "# acc -99\n",
    "# acc +1\n",
    "# jmp -4\n",
    "# acc +6\n",
    "# If you change the first instruction from nop +0 to jmp +0, it would create a single-instruction infinite loop, never leaving that instruction. If you change almost any of the jmp instructions, the program will still eventually find another jmp instruction and loop forever.\n",
    "\n",
    "# However, if you change the second-to-last instruction (from jmp -4 to nop -4), the program terminates! The instructions are visited in this order:\n",
    "\n",
    "# nop +0  | 1\n",
    "# acc +1  | 2\n",
    "# jmp +4  | 3\n",
    "# acc +3  |\n",
    "# jmp -3  |\n",
    "# acc -99 |\n",
    "# acc +1  | 4\n",
    "# nop -4  | 5\n",
    "# acc +6  | 6\n",
    "# After the last instruction (acc +6), the program terminates by attempting to run the instruction below the last instruction in the file. With this change, after the program terminates, the accumulator contains the value 8 (acc +1, acc +1, acc +6).\n",
    "\n",
    "# Fix the program so that it terminates normally by changing exactly one jmp (to nop) or nop (to jmp). What is the value of the accumulator after the program terminates?"
   ]
  },
  {
   "cell_type": "code",
   "execution_count": 21,
   "metadata": {},
   "outputs": [
    {
     "data": {
      "text/plain": [
       "631"
      ]
     },
     "execution_count": 21,
     "metadata": {},
     "output_type": "execute_result"
    }
   ],
   "source": [
    "code_list = list(df.code)\n",
    "len(code_list)"
   ]
  },
  {
   "cell_type": "code",
   "execution_count": 34,
   "metadata": {},
   "outputs": [],
   "source": [
    "def terminated(replacement_number,replaced_command,replacement_command):    \n",
    "    \n",
    "    # get code_list from pandas dataframe\n",
    "    code_list = list(df.code)\n",
    "\n",
    "    # empty list for index numbers\n",
    "    previous_index_numbers = []\n",
    "\n",
    "    # set index and accumulator to zero\n",
    "    index = 0\n",
    "    acc = 0\n",
    "    \n",
    "    # set count to zero\n",
    "    count = 0\n",
    "    \n",
    "    # begin loop\n",
    "    running_code = True\n",
    "    while running_code:\n",
    "\n",
    "        # if index is in list of previous indexes end loop and print did not terminate\n",
    "        if index in previous_index_numbers:\n",
    "\n",
    "            print('Did not terminate!!!')\n",
    "            return False\n",
    "        \n",
    "        # if the last number added to previous index numbers is equal to the length of code_list \n",
    "        # end loop and Terminated and print 'acc'\n",
    "        elif index == len(code_list):\n",
    "\n",
    "            print('Terminated:', acc, index)\n",
    "            return True\n",
    "\n",
    "        else:\n",
    "\n",
    "            # add index to previous_index_numbers\n",
    "            previous_index_numbers.append(index)\n",
    "\n",
    "            # get current code from list\n",
    "            code = code_list[index]\n",
    "\n",
    "            # get command, number, and sign for current code\n",
    "            mod = re.findall(r'(\\w*)',code)\n",
    "\n",
    "            # remove '' from mod\n",
    "            while(\"\" in mod):\n",
    "                mod.remove('')\n",
    "\n",
    "\n",
    "            command = mod[0]\n",
    "            amount = int(mod[1])\n",
    "            sign = re.findall(r'\\s(\\W)',code)[0]\n",
    "            \n",
    "            # if command equals replaced command add one to the count\n",
    "            if command == replaced_command:\n",
    "                \n",
    "                count += 1\n",
    "            \n",
    "            # if count equals replacement_number replace the command\n",
    "            if count == replacement_number:\n",
    "                \n",
    "                command = replacement_command \n",
    "                print('change')\n",
    "\n",
    "            # if command is 'nop' raise 'index' by 1\n",
    "            if command == 'nop':\n",
    "\n",
    "                index += 1\n",
    "\n",
    "            # if command is 'acc' raise or lower the 'acc' by amount based on the code's sign\n",
    "            # raise index by 1\n",
    "            if command == 'acc':\n",
    "\n",
    "                index += 1\n",
    "\n",
    "                if sign == '+':\n",
    "\n",
    "                    acc += amount\n",
    "\n",
    "                if sign == '-':\n",
    "\n",
    "                    acc -= amount\n",
    "\n",
    "            # if command is 'jmp' raise or lower index by amount based on the code's sign\n",
    "            if command == 'jmp':\n",
    "\n",
    "                if sign == '+':\n",
    "\n",
    "                    index += amount\n",
    "\n",
    "                if sign == '-':\n",
    "\n",
    "                    index -= amount\n",
    "\n",
    "        "
   ]
  },
  {
   "cell_type": "code",
   "execution_count": 35,
   "metadata": {},
   "outputs": [
    {
     "name": "stdout",
     "output_type": "stream",
     "text": [
      "change\n",
      "change\n",
      "Terminated: 342 631\n"
     ]
    }
   ],
   "source": [
    "# get total number of relacements for nop and jmp\n",
    "nops_to_replace = df.code.str.contains('nop').sum()\n",
    "jmps_to_replace = df.code.str.contains('jmp').sum()\n",
    "\n",
    "# set replacement number to zero\n",
    "replacement_number = 0\n",
    "\n",
    "# begin loop\n",
    "# increase replacement number by one for each itteration \n",
    "testing = True\n",
    "while testing:\n",
    "\n",
    "    replacement_number += 1\n",
    "    \n",
    "    if terminated(replacement_number,'nop','jmp'):\n",
    "        \n",
    "        break\n",
    "        \n",
    "    if terminated(replacement_number,'jmp','nop'):\n",
    "        \n",
    "        break"
   ]
  },
  {
   "cell_type": "code",
   "execution_count": null,
   "metadata": {},
   "outputs": [],
   "source": []
  },
  {
   "cell_type": "code",
   "execution_count": null,
   "metadata": {},
   "outputs": [],
   "source": []
  }
 ],
 "metadata": {
  "kernelspec": {
   "display_name": "Python 3",
   "language": "python",
   "name": "python3"
  },
  "language_info": {
   "codemirror_mode": {
    "name": "ipython",
    "version": 3
   },
   "file_extension": ".py",
   "mimetype": "text/x-python",
   "name": "python",
   "nbconvert_exporter": "python",
   "pygments_lexer": "ipython3",
   "version": "3.7.4"
  }
 },
 "nbformat": 4,
 "nbformat_minor": 4
}
